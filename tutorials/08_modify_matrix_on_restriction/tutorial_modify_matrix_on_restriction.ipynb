{
 "cells": [
  {
   "cell_type": "markdown",
   "metadata": {},
   "source": [
    "# Tutorial 08: list degrees of freedom associated to a restriction\n",
    "\n",
    "In this tutorial we solve the problem\n",
    "\n",
    "$$\\begin{cases}\n",
    "-\\Delta u = f, & \\text{in } \\Omega,\\\\\n",
    " u   = g, & \\text{on } \\Gamma = \\partial\\Omega,\n",
    "\\end{cases}$$\n",
    "\n",
    "where $\\Omega$ is the unit ball in 2D.\n",
    "\n",
    "We compare the following two cases:\n",
    "* **strong imposition of Dirichlet BCs**:\n",
    "the corresponding weak formulation is\n",
    "$$\n",
    "\\text{find } u \\in V_g \\text{ s.t. } \\int_\\Omega \\nabla u \\cdot \\nabla v = \\int_\\Omega f v, \\quad \\forall v \\in V_0\\\\\n",
    "$$\n",
    "where\n",
    "$$\n",
    "V_g = \\{v \\in H^1(\\Omega): v|_\\Gamma = g\\},\\\\\n",
    "V_0 = \\{v \\in H^1(\\Omega): v|_\\Gamma = 0\\}.\\\\\n",
    "$$\n",
    "* **penalty imposition of Dirichlet BCs**: this requires first the discretization of the associated homogeneous Neumann problem\n",
    "$$\n",
    "\\text{find } u \\in V \\text{ s.t. } \\int_\\Omega \\nabla u \\cdot \\nabla v = \\int_\\Omega f v, \\quad \\forall v \\in V\\\\\n",
    "$$\n",
    "where\n",
    "$$\n",
    "V = H^1(\\Omega),\n",
    "$$\n",
    "which we rewrite in matrix form as\n",
    "$$ \\text{find } x \\in \\mathbb{R}^n \\text{ s.t. } A x = b,$$\n",
    "where $A \\in \\mathbb{R}^{n \\times n}$ and $b \\in \\mathbb{R}^n$ are the left-hand side and right-hand side of the discrete Neumann problem.\n",
    "\n",
    "In order to impose Dirichlet boundary conditions, we solve the modified system\n",
    "$$ \\text{find } \\tilde{x} \\in \\mathbb{R}^n \\text{ s.t. } \\tilde{A} \\tilde{x} = \\tilde{b},$$\n",
    "where\n",
    "$$\\tilde{A} = A + P, \\qquad \\tilde{b} = b + q.$$\n",
    "\n",
    "The penalty matrix $P$ is defined as\n",
    "$$\n",
    "P_{ij} =\n",
    "\\begin{cases}\n",
    "\\mu, & \\text{if $i = j$, and $i$ is a boundary DOF},\\\\\n",
    "0, & \\text{otherwise},\n",
    "\\end{cases}$$\n",
    "and the penalty vector $q$ as\n",
    "$$\n",
    "q_i = \n",
    "\\begin{cases}\n",
    "\\mu g(\\mathbf{x}_i), & \\text{if $i$ is a boundary DOF},\\\\\n",
    "0, & \\text{otherwise},\n",
    "\\end{cases}$$\n",
    "where $\\mu \\in \\mathbb{R}$ is (large) scalar number, and $\\mathbf{x}_i$ denotes the coordinate of the entity associated at DOF $i$.\n",
    "\n",
    "The preferred way to impose non-homogeneous Dirichlet boundary conditions should still\n",
    "either be through BlockDirichletBC objects (see tutorial 01) or lagrange multipliers\n",
    "(see tutorial 03). This example is meant to show how to get the list of degrees of freedom\n",
    "associated to a specific restriction, and how to perform local modifications to assembled\n",
    "matrices."
   ]
  },
  {
   "cell_type": "code",
   "execution_count": null,
   "metadata": {},
   "outputs": [],
   "source": [
    "from numpy import arange, isclose, sin, sqrt, where\n",
    "from petsc4py import PETSc\n",
    "from ufl import grad, inner, Measure\n",
    "from dolfinx import *\n",
    "from dolfinx.cpp.mesh import GhostMode\n",
    "from dolfinx.fem import assemble_scalar, locate_dofs_topological\n",
    "from dolfinx.io import XDMFFile\n",
    "from dolfinx.plotting import plot\n",
    "from multiphenics import *\n",
    "from multiphenics.fem import block_assemble"
   ]
  },
  {
   "cell_type": "markdown",
   "metadata": {},
   "source": [
    "### Mesh"
   ]
  },
  {
   "cell_type": "code",
   "execution_count": null,
   "metadata": {},
   "outputs": [],
   "source": [
    "with XDMFFile(MPI.comm_world, \"data/circle.xdmf\") as infile:\n",
    "    mesh = infile.read_mesh(GhostMode.none)\n",
    "with XDMFFile(MPI.comm_world, \"data/circle_subdomains.xdmf\") as infile:\n",
    "    subdomains = infile.read_mf_size_t(mesh)\n",
    "with XDMFFile(MPI.comm_world, \"data/circle_boundaries.xdmf\") as infile:\n",
    "    boundaries = infile.read_mf_size_t(mesh)\n",
    "facets_Gamma = where(boundaries.values == 1)[0]"
   ]
  },
  {
   "cell_type": "code",
   "execution_count": null,
   "metadata": {},
   "outputs": [],
   "source": [
    "# Define associated measures\n",
    "dx = Measure(\"dx\")(subdomain_data=subdomains)\n",
    "ds = Measure(\"ds\")(subdomain_data=boundaries)"
   ]
  },
  {
   "cell_type": "markdown",
   "metadata": {},
   "source": [
    "### Helper functions"
   ]
  },
  {
   "cell_type": "code",
   "execution_count": null,
   "metadata": {},
   "outputs": [],
   "source": [
    "def get_local_dofs(W, component):\n",
    "    \"\"\"\n",
    "    Computes local dofs of W[component]. Returns two lists:\n",
    "    * the first list stores local dof numbering with respect to W[component], e.g. to be used to fetch data\n",
    "    from FEniCS solution vectors. Note that this list *neglects* restrictions. If interested in this output\n",
    "    for restricted block function spaces, please see get_local_dofs_on_restriction.\n",
    "    * the second list stores local dof numbering with respect to W, e.g. to be used to fetch data from\n",
    "    multiphenics solution block_vector. Note that this list *considers* restrictions.\n",
    "    \"\"\"\n",
    "    return (\n",
    "        list(range(0, W[component].dofmap.index_map.block_size*W[component].dofmap.index_map.size_local)),\n",
    "        list(range(0, W.block_dofmap.sub_index_map[component].block_size*W.block_dofmap.sub_index_map[component].size_local))\n",
    "    )"
   ]
  },
  {
   "cell_type": "code",
   "execution_count": null,
   "metadata": {},
   "outputs": [],
   "source": [
    "def get_local_dofs_on_restriction(W, component, restriction):\n",
    "    \"\"\"\n",
    "    Computes dofs of W[component] which are on the provided restriction, which can be smaller or equal to the restriction\n",
    "    provided at construction time of W (or it can be any restriction if W[component] is unrestricted). Returns two lists:\n",
    "    * the first list stores local dof numbering with respect to W[component], e.g. to be used to fetch data\n",
    "    from FEniCS solution vectors.\n",
    "    * the second list stores local dof numbering with respect to W, e.g. to be used to fetch data from\n",
    "    multiphenics solution block_vector.\n",
    "    \"\"\"\n",
    "    # Extract unrestricted space associated to the provided component\n",
    "    V = W.sub(component)\n",
    "    # Prepare an auxiliary block function space, restricted on the boundary\n",
    "    W_restricted = BlockFunctionSpace([V], restrict=[restriction])\n",
    "    component_restricted = 0 # there is only one block in the W_restricted space\n",
    "    # Get list of all local dofs on the restriction, numbered according to W_restricted. This will be a contiguous list\n",
    "    # [1, 2, ..., # local dofs on the restriction]\n",
    "    (_, restricted_dofs) = get_local_dofs(W_restricted, component_restricted)\n",
    "    # Get the mapping of local dofs numbering from W_restricted[0] to V\n",
    "    restricted_to_original = W_restricted.block_dofmap.block_to_original(component_restricted)\n",
    "    # Get list of all local dofs on the restriction, but numbered according to V. Note that this list will not be\n",
    "    # contiguous anymore, because there are DOFs on V other than the ones in the restriction (i.e., the ones in the\n",
    "    # interior)\n",
    "    original_dofs = [restricted_to_original[restricted] for restricted in restricted_dofs]\n",
    "    # Get the mapping of local dofs numbering from V to W[b].\n",
    "    original_to_block = W.block_dofmap.original_to_block(component)\n",
    "    # Get list of all local dofs on the restriction, but numbered according to W. Note again that this list will not\n",
    "    # be contiguous, and, in case of space W with multiple blocks, it will not be the same as original_dofs.\n",
    "    block_dofs = [original_to_block[original] for original in original_dofs]\n",
    "    return original_dofs, block_dofs"
   ]
  },
  {
   "cell_type": "code",
   "execution_count": null,
   "metadata": {},
   "outputs": [],
   "source": [
    "def generate_penalty_system(W, component, restriction, penalty, g):\n",
    "    \"\"\"\n",
    "    Generate matrix and vector to be added to the system to handle the penalty terms\n",
    "    \"\"\"\n",
    "    (fenics_local_dofs, multiphenics_local_dofs) = get_local_dofs(W, component)\n",
    "    (fenics_boundary_dofs, multiphenics_boundary_dofs) = get_local_dofs_on_restriction(W, component, restriction)\n",
    "    fenics_interior_dofs = [dof for dof in fenics_local_dofs if dof not in fenics_boundary_dofs]\n",
    "    # Assemble penalty matrix in a multiphenics matrix. Note that, as the matrix is assembled by multiphenics,\n",
    "    # we will be using multiphenics_*_dofs variables, i.e. multiphenics numbering.\n",
    "    p = [[u*v*dx]] # this u*v*dx form is not really used per se, just to allocated the correct sparsity pattern\n",
    "    p = BlockForm2(p, [W, W])\n",
    "    P = block_assemble(p)\n",
    "    P.zeroEntries()\n",
    "    for dof in multiphenics_boundary_dofs:\n",
    "        P.setValuesLocal([dof], [dof], [penalty]) # set P_{ij} = penalty * \\delta_{ij}, if i on boundary\n",
    "    P.assemble()\n",
    "    # Note that the for loop could have been replaced by\n",
    "    #   P.mat().zeroRowsColumnsLocal(multiphenics_boundary_dofs, penalty)\n",
    "    # We provide a manual version to show how to query petsc4py to manually change matrix entries (not necessarily on the\n",
    "    # diagonal, but necessarily included in the sparsity pattern).\n",
    "    #\n",
    "    # Next, assemble the penalty vector. First, copy g and rescale by penalty, throwing away interior values.\n",
    "    # Note that here we are using fenics_*_dofs variables, because g is a FEniCS vector.\n",
    "    q_function = BlockFunction(W)\n",
    "    g.vector.copy(result=q_function.sub(component).vector)\n",
    "    q_function.sub(component).vector.scale(penalty)\n",
    "    q_function.sub(component).vector.setValuesLocal(fenics_interior_dofs, [0.]*len(fenics_interior_dofs))\n",
    "    q_function.sub(component).vector.ghostUpdate(addv=PETSc.InsertMode.INSERT, mode=PETSc.ScatterMode.FORWARD)\n",
    "    q_function.apply(\"from subfunctions\", component)\n",
    "    # Return matrix and vector\n",
    "    return P, q_function.block_vector"
   ]
  },
  {
   "cell_type": "markdown",
   "metadata": {},
   "source": [
    "### Penalty imposition of Dirichlet BCs"
   ]
  },
  {
   "cell_type": "code",
   "execution_count": null,
   "metadata": {},
   "outputs": [],
   "source": [
    "# Define a block function space\n",
    "V = FunctionSpace(mesh, (\"Lagrange\", 2))\n",
    "W = BlockFunctionSpace([V])"
   ]
  },
  {
   "cell_type": "code",
   "execution_count": null,
   "metadata": {},
   "outputs": [],
   "source": [
    "# Define trial and test functions\n",
    "(u, ) = BlockTrialFunction(W)\n",
    "(v, ) = BlockTestFunction(W)"
   ]
  },
  {
   "cell_type": "code",
   "execution_count": null,
   "metadata": {},
   "outputs": [],
   "source": [
    "# Define problem block forms\n",
    "g = Function(V)\n",
    "g.interpolate(lambda x: sin(3*x[0] + 1)*sin(3*x[1] + 1))\n",
    "a = [[inner(grad(u), grad(v))*dx]]\n",
    "f =  [v*dx                      ]\n",
    "a = BlockForm2(a, [W, W])\n",
    "f = BlockForm1(f, [W])\n",
    "A = block_assemble(a)\n",
    "F = block_assemble(f)"
   ]
  },
  {
   "cell_type": "code",
   "execution_count": null,
   "metadata": {},
   "outputs": [],
   "source": [
    "# Add penalty terms\n",
    "dofs_V_Gamma = locate_dofs_topological(V, boundaries.dim, facets_Gamma)\n",
    "(P, Q) = generate_penalty_system(W, 0, dofs_V_Gamma, 1.e10, g)"
   ]
  },
  {
   "cell_type": "code",
   "execution_count": null,
   "metadata": {},
   "outputs": [],
   "source": [
    "# Store options\n",
    "options = PETSc.Options()\n",
    "solver_parameters = {\"ksp_type\": \"preonly\", \"pc_type\": \"lu\", \"pc_factor_mat_solver_type\": \"mumps\"}\n",
    "for k, v in solver_parameters.items():\n",
    "    options.setValue(\"multiphenics_solve_\" + k, v)\n",
    "# Solve\n",
    "U = BlockFunction(W)\n",
    "solver = PETSc.KSP().create(W.mesh.mpi_comm())\n",
    "solver.setOptionsPrefix(\"multiphenics_solve_\")\n",
    "solver.setFromOptions()\n",
    "solver.setOperators(A + P)\n",
    "solver.solve(F + Q, U.block_vector)\n",
    "# Keep subfunctions up to date\n",
    "U.apply(\"to subfunctions\")"
   ]
  },
  {
   "cell_type": "code",
   "execution_count": null,
   "metadata": {},
   "outputs": [],
   "source": [
    "plot(U[0])"
   ]
  },
  {
   "cell_type": "markdown",
   "metadata": {},
   "source": [
    "### Strong imposition of Dirichlet BCs"
   ]
  },
  {
   "cell_type": "code",
   "execution_count": null,
   "metadata": {},
   "outputs": [],
   "source": [
    "# Define Dirichlet BC object on Gamma\n",
    "bc_ex = DirichletBC(g, dofs_V_Gamma)"
   ]
  },
  {
   "cell_type": "code",
   "execution_count": null,
   "metadata": {},
   "outputs": [],
   "source": [
    "# Solve\n",
    "u_ex = Function(V)\n",
    "solve(a[0][0] == f[0], u_ex, bc_ex, petsc_options=solver_parameters)\n",
    "u_ex.vector.ghostUpdate(addv=PETSc.InsertMode.INSERT, mode=PETSc.ScatterMode.FORWARD)"
   ]
  },
  {
   "cell_type": "code",
   "execution_count": null,
   "metadata": {},
   "outputs": [],
   "source": [
    "plot(u_ex)"
   ]
  },
  {
   "cell_type": "markdown",
   "metadata": {},
   "source": [
    "### Comparison and error compuation"
   ]
  },
  {
   "cell_type": "code",
   "execution_count": null,
   "metadata": {},
   "outputs": [],
   "source": [
    "u_ex_norm = sqrt(MPI.sum(mesh.mpi_comm(), assemble_scalar(inner(grad(u_ex), grad(u_ex))*dx)))\n",
    "err_norm = sqrt(MPI.sum(mesh.mpi_comm(), assemble_scalar(inner(grad(u_ex - U[0]), grad(u_ex - U[0]))*dx)))\n",
    "print(\"Relative error is equal to\", err_norm/u_ex_norm)\n",
    "assert isclose(err_norm/u_ex_norm, 0., atol=1.e-10)"
   ]
  }
 ],
 "metadata": {
  "kernelspec": {
   "display_name": "Python 3",
   "language": "python",
   "name": "python3"
  },
  "language_info": {
   "codemirror_mode": {
    "name": "ipython"
   },
   "file_extension": ".py",
   "mimetype": "text/x-python",
   "name": "python",
   "nbconvert_exporter": "python"
  }
 },
 "nbformat": 4,
 "nbformat_minor": 2
}
