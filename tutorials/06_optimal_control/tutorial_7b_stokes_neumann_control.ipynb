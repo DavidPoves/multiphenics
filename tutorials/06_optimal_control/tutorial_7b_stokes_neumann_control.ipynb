{
 "cells": [
  {
   "cell_type": "markdown",
   "metadata": {},
   "source": [
    "# Tutorial 06, case 7b: Stokes problem with Neumann control\n",
    "\n",
    "In this tutorial we solve the optimal control problem\n",
    "\n",
    "$$\\min J(y, u) = \\frac{1}{2} \\int_{\\Omega} (v - v_d)^2 dx + \\frac{\\alpha_1}{2} \\int_{\\Gamma_C} |\\partial_t u|^2 ds + \\frac{\\alpha_2}{2} \\int_{\\Gamma_C} |u|^2 ds$$\n",
    "s.t.\n",
    "$$\\begin{cases}\n",
    "- \\nu \\Delta v + \\nabla p = f       & \\text{in } \\Omega\\\\\n",
    "             \\text{div} v = 0       & \\text{in } \\Omega\\\\\n",
    "                        v = g       & \\text{on } \\Gamma_{in}\\\\\n",
    "                        v = 0       & \\text{on } \\Gamma_{w}\\\\\n",
    "   p n - \\nu \\partial_n v = u       & \\text{on } \\Gamma_{N}\n",
    "\\end{cases}$$\n",
    "\n",
    "where\n",
    "$$\\begin{align*}\n",
    "& \\Omega                      & \\text{unit square}\\\\\n",
    "& \\Gamma_{in}                 & \\text{has boundary id 1}\\\\\n",
    "& \\Gamma_{w}                  & \\text{has boundary id 2}\\\\\n",
    "& \\Gamma_{N}                  & \\text{has boundary id 3}\\\\\n",
    "& \\Gamma_{C}                  & \\text{has boundary id 4}\\\\\n",
    "& u \\in [L^2(\\Gamma_C)]^2     & \\text{control variable}\\\\\n",
    "& v \\in [H^1_0(\\Omega)]^2     & \\text{state velocity variable}\\\\\n",
    "& p \\in L^2(\\Omega)           & \\text{state pressure variable}\\\\\n",
    "& \\alpha_1, \\alpha_2 > 0      & \\text{penalization parameters}\\\\\n",
    "& v_d                         & \\text{desired state}\\\\\n",
    "& f                           & \\text{forcing term}\\\\\n",
    "& g                           & \\text{inlet profile}\\\\\n",
    "\\end{align*}$$\n",
    "using an adjoint formulation solved by a one shot approach"
   ]
  },
  {
   "cell_type": "code",
   "execution_count": null,
   "metadata": {},
   "outputs": [],
   "source": [
    "from numpy import arange, isclose, isin, where, zeros\n",
    "from ufl import *\n",
    "from dolfinx import *\n",
    "from dolfinx.cpp.mesh import GhostMode\n",
    "from dolfinx.fem import assemble_scalar, locate_dofs_topological\n",
    "from dolfinx.io import XDMFFile\n",
    "from dolfinx.plotting import plot\n",
    "from multiphenics import *"
   ]
  },
  {
   "cell_type": "markdown",
   "metadata": {},
   "source": [
    "### Mesh"
   ]
  },
  {
   "cell_type": "code",
   "execution_count": null,
   "metadata": {},
   "outputs": [],
   "source": [
    "if MPI.size(MPI.comm_world) > 1:\n",
    "    mesh_ghost_mode = GhostMode.shared_facet # shared_facet ghost mode is required by dS\n",
    "else:\n",
    "    mesh_ghost_mode = GhostMode.none\n",
    "mesh = XDMFFile(MPI.comm_world, \"data/bifurcation.xdmf\").read_mesh(mesh_ghost_mode)\n",
    "subdomains = XDMFFile(MPI.comm_world, \"data/bifurcation_subdomains.xdmf\").read_mf_size_t(mesh)\n",
    "boundaries = XDMFFile(MPI.comm_world, \"data/bifurcation_boundaries.xdmf\").read_mf_size_t(mesh)\n",
    "boundaries_1 = where(boundaries.values == 1)[0]\n",
    "boundaries_2 = where(boundaries.values == 2)[0]\n",
    "boundaries_4 = where(boundaries.values == 4)[0]\n",
    "boundaries_12 = where(isin(boundaries.values, (1, 2)))[0]"
   ]
  },
  {
   "cell_type": "code",
   "execution_count": null,
   "metadata": {},
   "outputs": [],
   "source": [
    "# Define associated measures\n",
    "dx = Measure(\"dx\")(subdomain_data=subdomains)\n",
    "ds = Measure(\"ds\")(subdomain_data=boundaries)\n",
    "dS = Measure(\"dS\")(subdomain_data=boundaries)"
   ]
  },
  {
   "cell_type": "code",
   "execution_count": null,
   "metadata": {},
   "outputs": [],
   "source": [
    "# Normal and tangent\n",
    "n = FacetNormal(mesh)\n",
    "t = as_vector([n[1], -n[0]])"
   ]
  },
  {
   "cell_type": "markdown",
   "metadata": {},
   "source": [
    "### Function spaces"
   ]
  },
  {
   "cell_type": "code",
   "execution_count": null,
   "metadata": {},
   "outputs": [],
   "source": [
    "Y_velocity = VectorFunctionSpace(mesh, (\"Lagrange\", 2))\n",
    "Y_pressure = FunctionSpace(mesh, (\"Lagrange\", 1))\n",
    "U = VectorFunctionSpace(mesh, (\"Lagrange\", 2))\n",
    "Q_velocity = Y_velocity\n",
    "Q_pressure = Y_pressure\n",
    "dofs_Y_velocity = arange(0, Y_velocity.dofmap.index_map.block_size*(Y_velocity.dofmap.index_map.size_local + Y_velocity.dofmap.index_map.num_ghosts))\n",
    "dofs_Y_pressure = arange(0, Y_pressure.dofmap.index_map.block_size*(Y_pressure.dofmap.index_map.size_local + Y_pressure.dofmap.index_map.num_ghosts))\n",
    "dofs_U = locate_dofs_topological(U, boundaries.dim, boundaries_4)\n",
    "dofs_Q_velocity = dofs_Y_velocity\n",
    "dofs_Q_pressure = dofs_Y_pressure\n",
    "W = BlockFunctionSpace([Y_velocity, Y_pressure, U, Q_velocity, Q_pressure],\n",
    "                       restrict=[dofs_Y_velocity, dofs_Y_pressure, dofs_U, dofs_Q_velocity, dofs_Q_pressure])"
   ]
  },
  {
   "cell_type": "code",
   "execution_count": null,
   "metadata": {},
   "outputs": [],
   "source": [
    "trial = BlockTrialFunction(W)\n",
    "(v, p, u, z, b) = block_split(trial)\n",
    "test = BlockTestFunction(W)\n",
    "(w, q, r, s, d) = block_split(test)"
   ]
  },
  {
   "cell_type": "markdown",
   "metadata": {},
   "source": [
    " ### Problem data"
   ]
  },
  {
   "cell_type": "code",
   "execution_count": null,
   "metadata": {},
   "outputs": [],
   "source": [
    "nu = 0.04\n",
    "alpha_1 = 0.001\n",
    "alpha_2 = 0.1*alpha_1\n",
    "x = SpatialCoordinate(mesh)\n",
    "a = 1.0\n",
    "b = 0.8\n",
    "v_d = as_vector((a*(b*10.0*(x[1]**3 - x[1]**2 - x[1] + 1.0)) + ((1.0-b)*10.0*(-x[1]**3 - x[1]**2 + x[1] + 1.0)), 0.0))\n",
    "f = Constant(mesh, (0., 0.))\n",
    "def g_eval(x):\n",
    "    values = zeros((2, x.shape[1]))\n",
    "    values[0, :] = 10.0*a*(x[1, :] + 1.0)*(1.0 - x[1, :])\n",
    "    return values\n",
    "g = Function(W.sub(0))\n",
    "g.interpolate(g_eval)\n",
    "bc0 = Function(W.sub(0))"
   ]
  },
  {
   "cell_type": "markdown",
   "metadata": {},
   "source": [
    "### Optimality conditions"
   ]
  },
  {
   "cell_type": "code",
   "execution_count": null,
   "metadata": {},
   "outputs": [],
   "source": [
    "def tracking(v, w):\n",
    "    return inner(v, w)(\"-\")\n",
    "def penalty(u, r):\n",
    "    return alpha_1*inner(grad(u)*t, grad(r)*t) + alpha_2*inner(u, r)\n",
    "a = [[tracking(v, w)*dS(4)         , 0            , 0                  , nu*inner(grad(z), grad(w))*dx, - b*div(w)*dx],\n",
    "     [0                            , 0            , 0                  , - q*div(z)*dx                , 0            ],\n",
    "     [0                            , 0            , penalty(u, r)*ds(3), - inner(z, r)*ds(3)          , 0            ],\n",
    "     [nu*inner(grad(v), grad(s))*dx, - p*div(s)*dx, - inner(u, s)*ds(3), 0                            , 0            ],\n",
    "     [- d*div(v)*dx                , 0            , 0                  , 0                            , 0            ]]\n",
    "f =  [tracking(v_d, w)*dS(4),\n",
    "      0                     ,\n",
    "      0                     ,\n",
    "      inner(f, s)*dx        ,\n",
    "      0                      ]\n",
    "bdofs_W0_1 = locate_dofs_topological((W.sub(0), W.sub(0)), mesh.topology.dim - 1, boundaries_1)\n",
    "bdofs_W0_2 = locate_dofs_topological((W.sub(0), W.sub(0)), mesh.topology.dim - 1, boundaries_2)\n",
    "bdofs_W3_12 = locate_dofs_topological((W.sub(3), W.sub(0)), mesh.topology.dim - 1, boundaries_12)\n",
    "bc = BlockDirichletBC([[DirichletBC(g, bdofs_W0_1, W.sub(0)), DirichletBC(bc0, bdofs_W0_2, W.sub(0))],\n",
    "                       [],\n",
    "                       [],\n",
    "                       [DirichletBC(bc0, bdofs_W3_12, W.sub(3))],\n",
    "                       []], W)"
   ]
  },
  {
   "cell_type": "markdown",
   "metadata": {},
   "source": [
    "### Solution"
   ]
  },
  {
   "cell_type": "code",
   "execution_count": null,
   "metadata": {},
   "outputs": [],
   "source": [
    "solution = BlockFunction(W)\n",
    "(v, p, u, z, b) = block_split(solution)"
   ]
  },
  {
   "cell_type": "markdown",
   "metadata": {},
   "source": [
    "### Cost functional"
   ]
  },
  {
   "cell_type": "code",
   "execution_count": null,
   "metadata": {},
   "outputs": [],
   "source": [
    "J = 0.5*tracking(v - v_d, v - v_d)*dS(4) + 0.5*penalty(u, u)*ds(3)"
   ]
  },
  {
   "cell_type": "markdown",
   "metadata": {},
   "source": [
    "### Uncontrolled functional value"
   ]
  },
  {
   "cell_type": "code",
   "execution_count": null,
   "metadata": {},
   "outputs": [],
   "source": [
    "W_state_trial = W.extract_block_sub_space((0, 1))\n",
    "W_state_test = W.extract_block_sub_space((3, 4))"
   ]
  },
  {
   "cell_type": "code",
   "execution_count": null,
   "metadata": {},
   "outputs": [],
   "source": [
    "a_state = block_restrict(a, [W_state_test, W_state_trial])\n",
    "f_state = block_restrict(f, W_state_test)\n",
    "bc_state = block_restrict(bc, W_state_trial)"
   ]
  },
  {
   "cell_type": "code",
   "execution_count": null,
   "metadata": {},
   "outputs": [],
   "source": [
    "solution_state = block_restrict(solution, W_state_trial)"
   ]
  },
  {
   "cell_type": "code",
   "execution_count": null,
   "metadata": {},
   "outputs": [],
   "source": [
    "solver_parameters = {\"ksp_type\": \"preonly\", \"pc_type\": \"lu\", \"pc_factor_mat_solver_type\": \"mumps\"}\n",
    "block_solve(a_state, solution_state, f_state, bc_state, petsc_options=solver_parameters)"
   ]
  },
  {
   "cell_type": "code",
   "execution_count": null,
   "metadata": {},
   "outputs": [],
   "source": [
    "J_uncontrolled = MPI.sum(mesh.mpi_comm(), assemble_scalar(J))\n",
    "print(\"Uncontrolled J =\", J_uncontrolled)\n",
    "assert isclose(J_uncontrolled, 2.8479865)"
   ]
  },
  {
   "cell_type": "code",
   "execution_count": null,
   "metadata": {},
   "outputs": [],
   "source": [
    "plot(v, title=\"uncontrolled state velocity\")"
   ]
  },
  {
   "cell_type": "code",
   "execution_count": null,
   "metadata": {},
   "outputs": [],
   "source": [
    "plot(p, title=\"uncontrolled state pressure\")"
   ]
  },
  {
   "cell_type": "markdown",
   "metadata": {},
   "source": [
    "### Optimal control"
   ]
  },
  {
   "cell_type": "code",
   "execution_count": null,
   "metadata": {},
   "outputs": [],
   "source": [
    "block_solve(a, solution, f, bc, petsc_options=solver_parameters)"
   ]
  },
  {
   "cell_type": "code",
   "execution_count": null,
   "metadata": {},
   "outputs": [],
   "source": [
    "J_controlled = MPI.sum(mesh.mpi_comm(), assemble_scalar(J))\n",
    "print(\"Optimal J =\", J_controlled)\n",
    "assert isclose(J_controlled, 1.7643950)"
   ]
  },
  {
   "cell_type": "code",
   "execution_count": null,
   "metadata": {},
   "outputs": [],
   "source": [
    "plot(v, title=\"state velocity\")"
   ]
  },
  {
   "cell_type": "code",
   "execution_count": null,
   "metadata": {},
   "outputs": [],
   "source": [
    "plot(p, title=\"state pressure\")"
   ]
  },
  {
   "cell_type": "code",
   "execution_count": null,
   "metadata": {},
   "outputs": [],
   "source": [
    "plot(u, title=\"control\")"
   ]
  },
  {
   "cell_type": "code",
   "execution_count": null,
   "metadata": {},
   "outputs": [],
   "source": [
    "plot(z, title=\"adjoint velocity\")"
   ]
  },
  {
   "cell_type": "code",
   "execution_count": null,
   "metadata": {},
   "outputs": [],
   "source": [
    "plot(b, title=\"adjoint pressure\")"
   ]
  }
 ],
 "metadata": {
  "kernelspec": {
   "display_name": "Python 3",
   "language": "python",
   "name": "python3"
  },
  "language_info": {
   "codemirror_mode": {
    "name": "ipython"
   },
   "file_extension": ".py",
   "mimetype": "text/x-python",
   "name": "python",
   "nbconvert_exporter": "python"
  }
 },
 "nbformat": 4,
 "nbformat_minor": 2
}
