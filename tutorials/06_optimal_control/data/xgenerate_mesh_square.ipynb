{
 "cells": [
  {
   "cell_type": "markdown",
   "metadata": {},
   "source": [
    "# Mesh generation for tutorial 06, cases 1a, 2a, 3a, 4a-b, 5, 6, 8\n",
    "\n",
    "This file generates the mesh which is used in the following examples:\n",
    "* 1a_poisson\n",
    "* 2a_advection_diffusion_reaction\n",
    "* 3a_advection_diffusion_reaction_neumann_control\n",
    "* 4a_poisson_dirichlet_control\n",
    "* 4b_poisson_neumann_control_boundary_observation\n",
    "* 5_stokes\n",
    "* 6_navier_stokes\n",
    "* 8_navier_stokes_neumann_control"
   ]
  },
  {
   "cell_type": "code",
   "execution_count": null,
   "metadata": {},
   "outputs": [],
   "source": [
    "import numpy as np\n",
    "from dolfinx import UnitSquareMesh, MeshFunction, MPI\n",
    "from dolfinx.io import XDMFFile\n",
    "from dolfinx.plotting import plot"
   ]
  },
  {
   "cell_type": "markdown",
   "metadata": {},
   "source": [
    "### Create mesh"
   ]
  },
  {
   "cell_type": "code",
   "execution_count": null,
   "metadata": {},
   "outputs": [],
   "source": [
    "mesh = UnitSquareMesh(MPI.comm_world, 32, 32)"
   ]
  },
  {
   "cell_type": "code",
   "execution_count": null,
   "metadata": {},
   "outputs": [],
   "source": [
    "plot(mesh)"
   ]
  },
  {
   "cell_type": "markdown",
   "metadata": {},
   "source": [
    "### Create subdomains"
   ]
  },
  {
   "cell_type": "code",
   "execution_count": null,
   "metadata": {},
   "outputs": [],
   "source": [
    "subdomains = MeshFunction(\"int\", mesh, mesh.topology.dim, 0)"
   ]
  },
  {
   "cell_type": "markdown",
   "metadata": {},
   "source": [
    "### Create boundaries"
   ]
  },
  {
   "cell_type": "code",
   "execution_count": null,
   "metadata": {},
   "outputs": [],
   "source": [
    "def left(x):\n",
    "    return abs(x[0] - 0.) < np.finfo(float).eps\n",
    "\n",
    "\n",
    "def right(x):\n",
    "    return abs(x[0] - 1.) < np.finfo(float).eps\n",
    "\n",
    "\n",
    "def bottom(x):\n",
    "    return abs(x[1] - 0.) < np.finfo(float).eps\n",
    "\n",
    "\n",
    "def top(x):\n",
    "    return abs(x[1] - 1.) < np.finfo(float).eps\n",
    "\n",
    "\n",
    "boundaries = MeshFunction(\"int\", mesh, mesh.topology.dim - 1, 0)\n",
    "boundaries.mark(bottom, 1)\n",
    "boundaries.mark(left, 2)\n",
    "boundaries.mark(top, 3)\n",
    "boundaries.mark(right, 4)"
   ]
  },
  {
   "cell_type": "markdown",
   "metadata": {},
   "source": [
    "### Save"
   ]
  },
  {
   "cell_type": "code",
   "execution_count": null,
   "metadata": {},
   "outputs": [],
   "source": [
    "with XDMFFile(MPI.comm_world, \"square.xdmf\") as output:\n",
    "    output.write(mesh)\n",
    "with XDMFFile(MPI.comm_world, \"square_subdomains.xdmf\") as output:\n",
    "    output.write(subdomains)\n",
    "with XDMFFile(MPI.comm_world, \"square_boundaries.xdmf\") as output:\n",
    "    output.write(boundaries)"
   ]
  }
 ],
 "metadata": {
  "kernelspec": {
   "display_name": "Python 3",
   "language": "python",
   "name": "python3"
  },
  "language_info": {
   "codemirror_mode": {
    "name": "ipython"
   },
   "file_extension": ".py",
   "mimetype": "text/x-python",
   "name": "python",
   "nbconvert_exporter": "python"
  }
 },
 "nbformat": 4,
 "nbformat_minor": 2
}
