{
 "cells": [
  {
   "cell_type": "markdown",
   "metadata": {},
   "source": [
    "# Mesh generation for tutorial 06, case 1b\n",
    "\n",
    "This file generates the mesh which is used in the following examples:\n",
    "* 1b_poisson\n",
    "\n",
    "The test case is from section 5.1 of\n",
    "```\n",
    "F. Negri, G. Rozza, A. Manzoni and A. Quarteroni. Reduced Basis Method for Parametrized Elliptic Optimal Control Problems. SIAM Journal on Scientific Computing, 35(5): A2316-A2340, 2013.\n",
    "```"
   ]
  },
  {
   "cell_type": "code",
   "execution_count": null,
   "metadata": {},
   "outputs": [],
   "source": [
    "import pygmsh\n",
    "from dolfinx import Mesh, MeshFunction, MeshValueCollection, MPI\n",
    "from dolfinx.cpp.mesh import CellType, GhostMode\n",
    "from dolfinx.io import XDMFFile\n",
    "from dolfinx.plotting import plot"
   ]
  },
  {
   "cell_type": "markdown",
   "metadata": {},
   "source": [
    "### Geometrical parameters and related quantities"
   ]
  },
  {
   "cell_type": "code",
   "execution_count": null,
   "metadata": {},
   "outputs": [],
   "source": [
    "L1 = 1.0\n",
    "L2 = 3.0\n",
    "H = 1.0\n",
    "lcar = 0.05"
   ]
  },
  {
   "cell_type": "markdown",
   "metadata": {},
   "source": [
    "### Create mesh"
   ]
  },
  {
   "cell_type": "code",
   "execution_count": null,
   "metadata": {},
   "outputs": [],
   "source": [
    "geom = pygmsh.built_in.Geometry()\n",
    "p0 = geom.add_point([0.0, 0.0, 0.0], lcar)\n",
    "p1 = geom.add_point([L1, 0.0, 0.0], lcar)\n",
    "p2 = geom.add_point([L1 + L2, 0.0, 0.0], lcar)\n",
    "p3 = geom.add_point([L1 + L2, H, 0.0], lcar)\n",
    "p4 = geom.add_point([L1, H, 0.0], lcar)\n",
    "p5 = geom.add_point([0.0, H, 0.0], lcar)\n",
    "l0 = geom.add_line(p0, p1)\n",
    "l1 = geom.add_line(p1, p4)\n",
    "l2 = geom.add_line(p4, p5)\n",
    "l3 = geom.add_line(p5, p0)\n",
    "l4 = geom.add_line(p1, p2)\n",
    "l5 = geom.add_line(p2, p3)\n",
    "l6 = geom.add_line(p3, p4)\n",
    "geom.add_physical([l0, l4, l5, l6, l2, l3], label=1)\n",
    "line_loop_rectangle_left = geom.add_line_loop([l0, l1, l2, l3])\n",
    "line_loop_rectangle_right = geom.add_line_loop([l4, l5, l6, -l1])\n",
    "rectangle_left = geom.add_plane_surface(line_loop_rectangle_left)\n",
    "rectangle_right = geom.add_plane_surface(line_loop_rectangle_right)\n",
    "geom.add_physical(rectangle_left, label=11)\n",
    "geom.add_physical(rectangle_right, label=12)\n",
    "pygmsh_mesh = pygmsh.generate_mesh(geom)\n",
    "mesh = Mesh(MPI.comm_world, CellType.triangle, pygmsh_mesh.points[:, :2],\n",
    "            pygmsh_mesh.cells_dict[\"triangle\"], [], GhostMode.none)"
   ]
  },
  {
   "cell_type": "code",
   "execution_count": null,
   "metadata": {},
   "outputs": [],
   "source": [
    "plot(mesh)"
   ]
  },
  {
   "cell_type": "markdown",
   "metadata": {},
   "source": [
    "### Create subdomains"
   ]
  },
  {
   "cell_type": "code",
   "execution_count": null,
   "metadata": {},
   "outputs": [],
   "source": [
    "subdomains_mvc = MeshValueCollection(\"int\", mesh, mesh.topology.dim, pygmsh_mesh.cells_dict[\"triangle\"],\n",
    "                                     pygmsh_mesh.cell_data_dict[\"gmsh:physical\"][\"triangle\"] - 10)\n",
    "subdomains = MeshFunction(\"int\", mesh, subdomains_mvc, 0)"
   ]
  },
  {
   "cell_type": "markdown",
   "metadata": {},
   "source": [
    "### Create boundaries"
   ]
  },
  {
   "cell_type": "code",
   "execution_count": null,
   "metadata": {},
   "outputs": [],
   "source": [
    "boundaries_mvc = MeshValueCollection(\"int\", mesh, mesh.topology.dim - 1, pygmsh_mesh.cells_dict[\"line\"],\n",
    "                                     pygmsh_mesh.cell_data_dict[\"gmsh:physical\"][\"line\"])\n",
    "boundaries = MeshFunction(\"int\", mesh, boundaries_mvc, 0)"
   ]
  },
  {
   "cell_type": "markdown",
   "metadata": {},
   "source": [
    "### Save"
   ]
  },
  {
   "cell_type": "code",
   "execution_count": null,
   "metadata": {},
   "outputs": [],
   "source": [
    "with XDMFFile(MPI.comm_world, \"rectangle.xdmf\") as output:\n",
    "    output.write(mesh)\n",
    "with XDMFFile(MPI.comm_world, \"rectangle_subdomains.xdmf\") as output:\n",
    "    output.write(subdomains)\n",
    "with XDMFFile(MPI.comm_world, \"rectangle_boundaries.xdmf\") as output:\n",
    "    output.write(boundaries)"
   ]
  }
 ],
 "metadata": {
  "kernelspec": {
   "display_name": "Python 3",
   "language": "python",
   "name": "python3"
  },
  "language_info": {
   "codemirror_mode": {
    "name": "ipython"
   },
   "file_extension": ".py",
   "mimetype": "text/x-python",
   "name": "python",
   "nbconvert_exporter": "python"
  }
 },
 "nbformat": 4,
 "nbformat_minor": 2
}
