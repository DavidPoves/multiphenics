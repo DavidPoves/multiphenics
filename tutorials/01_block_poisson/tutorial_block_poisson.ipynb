{
 "cells": [
  {
   "cell_type": "markdown",
   "metadata": {},
   "source": [
    "# Tutorial 01. Block Poisson problem.\n",
    "\n",
    "In this tutorial we first solve the problem\n",
    "\n",
    "\\begin{cases}\n",
    "-u'' = f & \\text{in }\\Omega = (0, 1),\\\\\n",
    " u   = 0 & \\text{on }\\Gamma = \\{0, 1\\}\n",
    "\\end{cases}\n",
    "\n",
    "using standard FEniCSx code.\n",
    "\n",
    "Then we use both block support of FEniCSx and multiphenics to solve the system\n",
    "\n",
    "\\begin{cases}\n",
    "- w_1'' - 2 w_2'' = 3 f & \\text{in }\\Omega,\\\\\n",
    "- 3 w_1'' - 4 w_2'' = 7 f & \\text{in }\\Omega\n",
    "\\end{cases}\n",
    "\n",
    "subject to\n",
    "\n",
    "\\begin{cases}\n",
    " w_1 = 0 & \\text{on }\\Gamma,\\\\\n",
    " w_2 = 0 & \\text{on }\\Gamma\n",
    "\\end{cases}\n",
    "\n",
    "By construction the solution of the system is\n",
    "$$(w_1, w_2) = (u, u)$$\n",
    "\n",
    "We then compare the obtained solutions."
   ]
  },
  {
   "cell_type": "code",
   "execution_count": null,
   "metadata": {},
   "outputs": [],
   "source": [
    "from numpy import finfo, isclose, where\n",
    "from petsc4py import PETSc\n",
    "from ufl import *\n",
    "from dolfinx import *\n",
    "from dolfinx.cpp.la import get_local_vectors\n",
    "from dolfinx.fem import assemble_matrix_block, assemble_scalar, assemble_vector_block, create_vector_block, locate_dofs_topological\n",
    "from dolfinx.plotting import plot\n",
    "from multiphenics import *"
   ]
  },
  {
   "cell_type": "markdown",
   "metadata": {},
   "source": [
    "### Mesh generation"
   ]
  },
  {
   "cell_type": "code",
   "execution_count": null,
   "metadata": {},
   "outputs": [],
   "source": [
    "mesh = UnitIntervalMesh(MPI.comm_world, 32)"
   ]
  },
  {
   "cell_type": "code",
   "execution_count": null,
   "metadata": {},
   "outputs": [],
   "source": [
    "def left(x):\n",
    "    return abs(x[0] - 0.) < finfo(float).eps\n",
    "\n",
    "def right(x):\n",
    "    return abs(x[0] - 1.) < finfo(float).eps\n",
    "\n",
    "boundaries = MeshFunction(\"size_t\", mesh, mesh.topology.dim - 1, 0)\n",
    "boundaries.mark(left, 1)\n",
    "boundaries.mark(right, 1)\n",
    "boundaries_1 = where(boundaries.values == 1)[0]"
   ]
  },
  {
   "cell_type": "code",
   "execution_count": null,
   "metadata": {},
   "outputs": [],
   "source": [
    "x0 = SpatialCoordinate(mesh)[0]"
   ]
  },
  {
   "cell_type": "markdown",
   "metadata": {},
   "source": [
    "### Solver parameters"
   ]
  },
  {
   "cell_type": "code",
   "execution_count": null,
   "metadata": {},
   "outputs": [],
   "source": [
    "solver_parameters = {\"ksp_type\": \"preonly\", \"pc_type\": \"lu\", \"pc_factor_mat_solver_type\": \"mumps\"}"
   ]
  },
  {
   "cell_type": "markdown",
   "metadata": {},
   "source": [
    "### Standard case (solve for $u$ with FEniCSx)"
   ]
  },
  {
   "cell_type": "code",
   "execution_count": null,
   "metadata": {},
   "outputs": [],
   "source": [
    "def run_standard():\n",
    "    # Define a function space\n",
    "    V = FunctionSpace(mesh, (\"Lagrange\", 2))\n",
    "    u = TrialFunction(V)\n",
    "    v = TestFunction(V)\n",
    "\n",
    "    # Define problems forms\n",
    "    a = inner(grad(u), grad(v))*dx + u*v*dx\n",
    "    f = 100*sin(20*x0)*v*dx\n",
    "\n",
    "    # Define boundary conditions\n",
    "    zero = Function(V)\n",
    "    with zero.vector.localForm() as zero_local:\n",
    "        zero_local.set(0.0)\n",
    "    bdofs_V_1 = locate_dofs_topological(V, mesh.topology.dim - 1, boundaries_1)\n",
    "    bc = DirichletBC(zero, bdofs_V_1)\n",
    "\n",
    "    # Solve the linear system\n",
    "    u = Function(V)\n",
    "    solve(a == f, u, bc, petsc_options=solver_parameters)\n",
    "    u.vector.ghostUpdate(addv=PETSc.InsertMode.INSERT, mode=PETSc.ScatterMode.FORWARD)\n",
    "\n",
    "    # Return the solution\n",
    "    return u"
   ]
  },
  {
   "cell_type": "code",
   "execution_count": null,
   "metadata": {},
   "outputs": [],
   "source": [
    "u = run_standard()"
   ]
  },
  {
   "cell_type": "code",
   "execution_count": null,
   "metadata": {},
   "outputs": [],
   "source": [
    "plot(u)"
   ]
  },
  {
   "cell_type": "markdown",
   "metadata": {},
   "source": [
    "### Standard block case (solve for ($w_1$, $w_2$) with FEniCSx)"
   ]
  },
  {
   "cell_type": "code",
   "execution_count": null,
   "metadata": {},
   "outputs": [],
   "source": [
    "def run_standard_block():\n",
    "    # Define a block function space\n",
    "    V1 = FunctionSpace(mesh, (\"Lagrange\", 2))\n",
    "    V2 = FunctionSpace(mesh, (\"Lagrange\", 2))\n",
    "    (u1, u2) = (TrialFunction(V1), TrialFunction(V2))\n",
    "    (v1, v2) = (TestFunction(V1), TestFunction(V2))\n",
    "\n",
    "    # Define problem block forms\n",
    "    aa = [[1*inner(grad(u1), grad(v1))*dx + 1*u1*v1*dx, 2*inner(grad(u2), grad(v1))*dx + 2*u2*v1*dx],\n",
    "          [3*inner(grad(u1), grad(v2))*dx + 3*u1*v2*dx, 4*inner(grad(u2), grad(v2))*dx + 4*u2*v2*dx]]\n",
    "    ff = [300*sin(20*x0)*v1*dx,\n",
    "          700*sin(20*x0)*v2*dx]\n",
    "\n",
    "    # Define block boundary conditions\n",
    "    zero = Function(V1)\n",
    "    with zero.vector.localForm() as zero_local:\n",
    "        zero_local.set(0.0)\n",
    "    bdofs_V1_1 = locate_dofs_topological((V1, V1), mesh.topology.dim - 1, boundaries_1)\n",
    "    bdofs_V2_1 = locate_dofs_topological((V2, V1), mesh.topology.dim - 1, boundaries_1)\n",
    "    bc1 = DirichletBC(zero, bdofs_V1_1, V1)\n",
    "    bc2 = DirichletBC(zero, bdofs_V2_1, V2)\n",
    "    bcs = [bc1, bc2]\n",
    "\n",
    "    # Assemble the block linear system\n",
    "    AA = assemble_matrix_block(aa, bcs)\n",
    "    AA.assemble()\n",
    "    FF = assemble_vector_block(ff, aa, bcs)\n",
    "\n",
    "    # Solve the block linear system\n",
    "    uu = create_vector_block(ff)\n",
    "    ksp = PETSc.KSP()\n",
    "    ksp.create(mesh.mpi_comm())\n",
    "    ksp.setOperators(AA)\n",
    "    ksp.setType(\"preonly\")\n",
    "    ksp.getPC().setType(\"lu\")\n",
    "    ksp.getPC().setFactorSolverType(\"mumps\")\n",
    "    ksp.setFromOptions()\n",
    "    ksp.solve(FF, uu)\n",
    "    (u1, u2) = (Function(V1), Function(V2))\n",
    "    with u1.vector.localForm() as u1_local, u2.vector.localForm() as u2_local:\n",
    "        (u1_local[:], u2_local[:]) = get_local_vectors(\n",
    "            uu,\n",
    "            [u1.function_space.dofmap.index_map, u2.function_space.dofmap.index_map]\n",
    "        )\n",
    "    u1.vector.ghostUpdate(addv=PETSc.InsertMode.INSERT, mode=PETSc.ScatterMode.FORWARD)\n",
    "    u2.vector.ghostUpdate(addv=PETSc.InsertMode.INSERT, mode=PETSc.ScatterMode.FORWARD)\n",
    "\n",
    "    # Return the block solution\n",
    "    return u1, u2"
   ]
  },
  {
   "cell_type": "code",
   "execution_count": null,
   "metadata": {},
   "outputs": [],
   "source": [
    "u1, u2 = run_standard_block()"
   ]
  },
  {
   "cell_type": "code",
   "execution_count": null,
   "metadata": {},
   "outputs": [],
   "source": [
    "plot(u1)"
   ]
  },
  {
   "cell_type": "code",
   "execution_count": null,
   "metadata": {},
   "outputs": [],
   "source": [
    "plot(u2)"
   ]
  },
  {
   "cell_type": "markdown",
   "metadata": {},
   "source": [
    "### Multiphenics block case (solve for ($w_1$, $w_2$) with multiphenics)"
   ]
  },
  {
   "cell_type": "code",
   "execution_count": null,
   "metadata": {},
   "outputs": [],
   "source": [
    "def run_multiphenics():\n",
    "    # Define a block function space\n",
    "    V = FunctionSpace(mesh, (\"Lagrange\", 2))\n",
    "    VV = BlockFunctionSpace([V, V])\n",
    "    uu = BlockTrialFunction(VV)\n",
    "    vv = BlockTestFunction(VV)\n",
    "    (u1, u2) = block_split(uu)\n",
    "    (v1, v2) = block_split(vv)\n",
    "\n",
    "    # Define problem block forms\n",
    "    aa = [[1*inner(grad(u1), grad(v1))*dx + 1*u1*v1*dx, 2*inner(grad(u2), grad(v1))*dx + 2*u2*v1*dx],\n",
    "          [3*inner(grad(u1), grad(v2))*dx + 3*u1*v2*dx, 4*inner(grad(u2), grad(v2))*dx + 4*u2*v2*dx]]\n",
    "    ff = [300*sin(20*x0)*v1*dx,\n",
    "          700*sin(20*x0)*v2*dx]\n",
    "\n",
    "    # Define block boundary conditions\n",
    "    zero = Function(V)\n",
    "    with zero.vector.localForm() as zero_local:\n",
    "        zero_local.set(0.0)\n",
    "    bdofs_VV0_1 = locate_dofs_topological((VV.sub(0), V), mesh.topology.dim - 1, boundaries_1)\n",
    "    bdofs_VV1_1 = locate_dofs_topological((VV.sub(1), V), mesh.topology.dim - 1, boundaries_1)\n",
    "    bc1 = DirichletBC(zero, bdofs_VV0_1, VV.sub(0))\n",
    "    bc2 = DirichletBC(zero, bdofs_VV1_1, VV.sub(1))\n",
    "    bcs = BlockDirichletBC([bc1,\n",
    "                            bc2])\n",
    "\n",
    "    # Solve the block linear system\n",
    "    uu = BlockFunction(VV)\n",
    "    block_solve(aa, uu, ff, bcs, petsc_options=solver_parameters)\n",
    "    uu1, uu2 = uu\n",
    "\n",
    "    # Return the block solution\n",
    "    return uu1, uu2"
   ]
  },
  {
   "cell_type": "code",
   "execution_count": null,
   "metadata": {},
   "outputs": [],
   "source": [
    "uu1, uu2 = run_multiphenics()"
   ]
  },
  {
   "cell_type": "code",
   "execution_count": null,
   "metadata": {},
   "outputs": [],
   "source": [
    "plot(uu1)"
   ]
  },
  {
   "cell_type": "code",
   "execution_count": null,
   "metadata": {},
   "outputs": [],
   "source": [
    "plot(uu2)"
   ]
  },
  {
   "cell_type": "markdown",
   "metadata": {},
   "source": [
    "### Error computation between the different cases"
   ]
  },
  {
   "cell_type": "code",
   "execution_count": null,
   "metadata": {},
   "outputs": [],
   "source": [
    "def compute_errors(u1, u2, uu1, uu2):\n",
    "    u_1_norm = sqrt(MPI.sum(mesh.mpi_comm(), assemble_scalar(inner(grad(u1), grad(u1))*dx)))\n",
    "    u_2_norm = sqrt(MPI.sum(mesh.mpi_comm(), assemble_scalar(inner(grad(u2), grad(u2))*dx)))\n",
    "    err_1_norm = sqrt(MPI.sum(mesh.mpi_comm(), assemble_scalar(inner(grad(u1 - uu1), grad(u1 - uu1))*dx)))\n",
    "    err_2_norm = sqrt(MPI.sum(mesh.mpi_comm(), assemble_scalar(inner(grad(u2 - uu2), grad(u2 - uu2))*dx)))\n",
    "    print(\"  Relative error for first component is equal to\", err_1_norm/u_1_norm)\n",
    "    print(\"  Relative error for second component is equal to\", err_2_norm/u_2_norm)\n",
    "    assert isclose(err_1_norm/u_1_norm, 0., atol=1.e-10)\n",
    "    assert isclose(err_2_norm/u_2_norm, 0., atol=1.e-10)"
   ]
  },
  {
   "cell_type": "code",
   "execution_count": null,
   "metadata": {},
   "outputs": [],
   "source": [
    "print(\"Computing errors between standard and standard block\")\n",
    "compute_errors(u, u, u1, u2)\n",
    "print(\"Computing errors between standard and multiphenics\")\n",
    "compute_errors(u, u, uu1, uu2)\n",
    "print(\"Computing errors between standard block and multiphenics\")\n",
    "compute_errors(u1, u2, uu1, uu2)"
   ]
  }
 ],
 "metadata": {
  "kernelspec": {
   "display_name": "Python 3",
   "language": "python",
   "name": "python3"
  },
  "language_info": {
   "codemirror_mode": {
    "name": "ipython"
   },
   "file_extension": ".py",
   "mimetype": "text/x-python",
   "name": "python",
   "nbconvert_exporter": "python"
  }
 },
 "nbformat": 4,
 "nbformat_minor": 2
}
