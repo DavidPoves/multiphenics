{
 "cells": [
  {
   "cell_type": "markdown",
   "metadata": {},
   "source": [
    "# Mesh generation for tutorial 03"
   ]
  },
  {
   "cell_type": "code",
   "execution_count": null,
   "metadata": {},
   "outputs": [],
   "source": [
    "import pygmsh\n",
    "from dolfinx import *\n",
    "from dolfinx.cpp.mesh import CellType, GhostMode\n",
    "from dolfinx.io import XDMFFile\n",
    "from dolfinx.plotting import plot"
   ]
  },
  {
   "cell_type": "markdown",
   "metadata": {},
   "source": [
    "### Geometrical parameters"
   ]
  },
  {
   "cell_type": "code",
   "execution_count": null,
   "metadata": {},
   "outputs": [],
   "source": [
    "r = 3\n",
    "lcar = 1./4."
   ]
  },
  {
   "cell_type": "markdown",
   "metadata": {},
   "source": [
    "### Create mesh"
   ]
  },
  {
   "cell_type": "code",
   "execution_count": null,
   "metadata": {},
   "outputs": [],
   "source": [
    "geom = pygmsh.built_in.Geometry()\n",
    "p0 = geom.add_point([0.0, 0.0, 0.0], lcar)\n",
    "p1 = geom.add_point([0.0, +r, 0.0], lcar)\n",
    "p2 = geom.add_point([0.0, -r, 0.0], lcar)\n",
    "c0 = geom.add_circle_arc(p1, p0, p2)\n",
    "c1 = geom.add_circle_arc(p2, p0, p1)\n",
    "l0 = geom.add_line(p2, p1)\n",
    "geom.add_physical([c0, c1], label=1)\n",
    "geom.add_physical(l0, label=2)\n",
    "line_loop_left = geom.add_line_loop([c0, l0])\n",
    "line_loop_right = geom.add_line_loop([c1, -l0])\n",
    "semicircle_left = geom.add_plane_surface(line_loop_left)\n",
    "semicircle_right = geom.add_plane_surface(line_loop_right)\n",
    "geom.add_physical(semicircle_left, label=11)\n",
    "geom.add_physical(semicircle_right, label=12)\n",
    "pygmsh_mesh = pygmsh.generate_mesh(geom)\n",
    "mesh = Mesh(MPI.comm_world, CellType.triangle, pygmsh_mesh.points[:, :2], pygmsh_mesh.cells_dict[\"triangle\"], [], GhostMode.none)"
   ]
  },
  {
   "cell_type": "code",
   "execution_count": null,
   "metadata": {},
   "outputs": [],
   "source": [
    "plot(mesh)"
   ]
  },
  {
   "cell_type": "markdown",
   "metadata": {},
   "source": [
    "### Create subdomains"
   ]
  },
  {
   "cell_type": "code",
   "execution_count": null,
   "metadata": {},
   "outputs": [],
   "source": [
    "subdomains_mvc = MeshValueCollection(\"size_t\", mesh, mesh.topology.dim, pygmsh_mesh.cells_dict[\"triangle\"], pygmsh_mesh.cell_data_dict[\"gmsh:physical\"][\"triangle\"] - 10)\n",
    "subdomains = MeshFunction(\"size_t\", mesh, subdomains_mvc, 0)"
   ]
  },
  {
   "cell_type": "markdown",
   "metadata": {},
   "source": [
    "### Create boundaries"
   ]
  },
  {
   "cell_type": "code",
   "execution_count": null,
   "metadata": {},
   "outputs": [],
   "source": [
    "boundaries_mvc = MeshValueCollection(\"size_t\", mesh, mesh.topology.dim - 1, pygmsh_mesh.cells_dict[\"line\"], pygmsh_mesh.cell_data_dict[\"gmsh:physical\"][\"line\"])\n",
    "boundaries = MeshFunction(\"size_t\", mesh, boundaries_mvc, 0)"
   ]
  },
  {
   "cell_type": "markdown",
   "metadata": {},
   "source": [
    "### Save"
   ]
  },
  {
   "cell_type": "code",
   "execution_count": null,
   "metadata": {},
   "outputs": [],
   "source": [
    "with XDMFFile(MPI.comm_world, \"circle.xdmf\") as output:\n",
    "    output.write(mesh)\n",
    "with XDMFFile(MPI.comm_world, \"circle_subdomains.xdmf\") as output:\n",
    "    output.write(subdomains)\n",
    "with XDMFFile(MPI.comm_world, \"circle_boundaries.xdmf\") as output:\n",
    "    output.write(boundaries)"
   ]
  }
 ],
 "metadata": {
  "kernelspec": {
   "display_name": "Python 3",
   "language": "python",
   "name": "python3"
  },
  "language_info": {
   "codemirror_mode": {
    "name": "ipython"
   },
   "file_extension": ".py",
   "mimetype": "text/x-python",
   "name": "python",
   "nbconvert_exporter": "python"
  }
 },
 "nbformat": 4,
 "nbformat_minor": 2
}
