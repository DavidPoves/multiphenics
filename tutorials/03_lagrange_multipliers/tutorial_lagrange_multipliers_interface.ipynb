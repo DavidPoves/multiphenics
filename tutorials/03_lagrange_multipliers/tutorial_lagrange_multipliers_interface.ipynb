{
 "cells": [
  {
   "cell_type": "markdown",
   "metadata": {},
   "source": [
    "# Tutorial 03: weak imposition of Dirichlet BCs by a Lagrange multiplier (interface problem)\n",
    "\n",
    "In this tutorial we solve the problem\n",
    "\n",
    "$$\\begin{cases}\n",
    "-\\Delta u = f, & \\text{in } \\Omega,\\\\\n",
    " u   = g, & \\text{on } \\partial\\Omega,\n",
    "\\end{cases}$$\n",
    "\n",
    "where $\\Omega$ is the unit ball in 2D, using a domain decomposition approach for $\\Omega = \\Omega_1 \\cup \\Omega_2$, and introducing a lagrange multiplier to handle the continuity of the solution across\n",
    "the interface $\\Gamma$ between $\\Omega_1$ and $\\Omega_2$.\n",
    "\n",
    "The resulting weak formulation is:\n",
    "$$\n",
    "\\text{find }u_1 \\in V(\\Omega_1), u_2 \\in V(\\Omega_2), \\eta \\in E(\\Gamma)\n",
    "$$\n",
    "s.t.\n",
    "$$\n",
    "\\int_{\\Omega_1} \\nabla u_1 \\cdot \\nabla v_1 dx +\n",
    "\\int_{\\Omega_2} \\nabla u_2 \\cdot \\nabla v_2 dx +\n",
    "\\int_{\\Gamma} \\lambda (v_1 - v_2) ds = 0,\n",
    "\\qquad \\forall v_1 \\in V(\\Omega_1), v_2 \\in V(\\Omega_2)\n",
    "$$\n",
    "and\n",
    "$$\n",
    "\\int_{\\Gamma} \\eta  (u_1 - u_2) ds = 0,\n",
    "\\qquad \\forall \\eta \\in E(\\Gamma)\n",
    "$$\n",
    "where boundary conditions on $\\partial\\Omega$ are embedded in $V(\\Omega_i) \\subset H^1(\\Omega_i)$, $i = 1, 2$, and $E(\\Gamma) \\subset L^2(\\Gamma)$.\n",
    "\n",
    "This example is a prototypical case of problems containing interface restricted variables (the Lagrange multiplier, in this case)."
   ]
  },
  {
   "cell_type": "code",
   "execution_count": null,
   "metadata": {},
   "outputs": [],
   "source": [
    "from numpy import isclose, sqrt, where\n",
    "from petsc4py import PETSc\n",
    "from ufl import grad, inner, Measure, TestFunction, TrialFunction\n",
    "from dolfinx import *\n",
    "from dolfinx.cpp.mesh import GhostMode\n",
    "from dolfinx.fem import assemble_scalar, locate_dofs_topological\n",
    "from dolfinx.io import XDMFFile\n",
    "from dolfinx.plotting import plot\n",
    "from multiphenics import *"
   ]
  },
  {
   "cell_type": "markdown",
   "metadata": {},
   "source": [
    "### Mesh"
   ]
  },
  {
   "cell_type": "code",
   "execution_count": null,
   "metadata": {},
   "outputs": [],
   "source": [
    "if MPI.size(MPI.comm_world) > 1:\n",
    "    mesh_ghost_mode = GhostMode.shared_facet # shared_facet ghost mode is required by dS\n",
    "else:\n",
    "    mesh_ghost_mode = GhostMode.none\n",
    "with XDMFFile(MPI.comm_world, \"data/circle.xdmf\") as infile:\n",
    "    mesh = infile.read_mesh(GhostMode.none)\n",
    "with XDMFFile(MPI.comm_world, \"data/circle_subdomains.xdmf\") as infile:\n",
    "    subdomains = infile.read_mf_size_t(mesh)\n",
    "with XDMFFile(MPI.comm_world, \"data/circle_boundaries.xdmf\") as infile:\n",
    "    boundaries = infile.read_mf_size_t(mesh)\n",
    "cells_Omega_1 = where(subdomains.values == 1)[0]\n",
    "cells_Omega_2 = where(subdomains.values == 2)[0]\n",
    "facets_partial_Omega = where(boundaries.values == 1)[0]\n",
    "facets_Gamma = where(boundaries.values == 2)[0]"
   ]
  },
  {
   "cell_type": "code",
   "execution_count": null,
   "metadata": {},
   "outputs": [],
   "source": [
    "# Define associated measures\n",
    "dx = Measure(\"dx\")(subdomain_data=subdomains)\n",
    "ds = Measure(\"ds\")(subdomain_data=boundaries)\n",
    "dS = Measure(\"dS\")(subdomain_data=boundaries)\n",
    "dS = dS(2) # restrict to the interface, which has facet ID equal to 2"
   ]
  },
  {
   "cell_type": "markdown",
   "metadata": {},
   "source": [
    "### With domain decomposition"
   ]
  },
  {
   "cell_type": "code",
   "execution_count": null,
   "metadata": {},
   "outputs": [],
   "source": [
    "# Define a block function space\n",
    "V = FunctionSpace(mesh, (\"Lagrange\", 2))\n",
    "dofs_V_Omega_1 = locate_dofs_topological(V, subdomains.dim, cells_Omega_1)\n",
    "dofs_V_Omega_2 = locate_dofs_topological(V, subdomains.dim, cells_Omega_2)\n",
    "dofs_V_Gamma = locate_dofs_topological(V, boundaries.dim, facets_Gamma)\n",
    "W = BlockFunctionSpace([V, V, V], restrict=[dofs_V_Omega_1, dofs_V_Omega_2, dofs_V_Gamma])"
   ]
  },
  {
   "cell_type": "code",
   "execution_count": null,
   "metadata": {},
   "outputs": [],
   "source": [
    "# Define trial and test functions\n",
    "u1u2l = BlockTrialFunction(W)\n",
    "(u1, u2, l) = block_split(u1u2l)\n",
    "v1v2m = BlockTestFunction(W)\n",
    "(v1, v2, m) = block_split(v1v2m)"
   ]
  },
  {
   "cell_type": "code",
   "execution_count": null,
   "metadata": {},
   "outputs": [],
   "source": [
    "# Define problem block forms\n",
    "a = [[inner(grad(u1), grad(v1))*dx(1), 0                              ,   l(\"-\")*v1(\"-\")*dS ],\n",
    "     [0                              , inner(grad(u2), grad(v2))*dx(2), - l(\"+\")*v2(\"+\")*dS ],\n",
    "     [m(\"-\")*u1(\"-\")*dS              , - m(\"+\")*u2(\"+\")*dS            , 0                   ]]\n",
    "f =  [v1*dx(1)                       , v2*dx(2)                       , 0                   ]\n",
    "A = BlockForm2(a, [W, W])\n",
    "F = BlockForm1(f, [W])"
   ]
  },
  {
   "cell_type": "code",
   "execution_count": null,
   "metadata": {},
   "outputs": [],
   "source": [
    "# Define boundary conditions\n",
    "zero = Function(V)\n",
    "dofs_W0_partial_Omega = locate_dofs_topological((W.sub(0), V), boundaries.dim, facets_partial_Omega)\n",
    "dofs_W1_partial_Omega = locate_dofs_topological((W.sub(1), V), boundaries.dim, facets_partial_Omega)\n",
    "bc1 = DirichletBC(zero, dofs_W0_partial_Omega, W.sub(0))\n",
    "bc2 = DirichletBC(zero, dofs_W1_partial_Omega, W.sub(1))\n",
    "bcs = BlockDirichletBC([[bc1], [bc2], []], W)"
   ]
  },
  {
   "cell_type": "code",
   "execution_count": null,
   "metadata": {},
   "outputs": [],
   "source": [
    "# Solve\n",
    "u1u2l = BlockFunction(W)\n",
    "solver_parameters = {\"ksp_type\": \"preonly\", \"pc_type\": \"lu\", \"pc_factor_mat_solver_type\": \"mumps\"}\n",
    "block_solve(A, u1u2l, F, bcs, petsc_options=solver_parameters)"
   ]
  },
  {
   "cell_type": "code",
   "execution_count": null,
   "metadata": {},
   "outputs": [],
   "source": [
    "plot(u1u2l[0])"
   ]
  },
  {
   "cell_type": "code",
   "execution_count": null,
   "metadata": {},
   "outputs": [],
   "source": [
    "plot(u1u2l[1])"
   ]
  },
  {
   "cell_type": "markdown",
   "metadata": {},
   "source": [
    "### Without domain decomposition"
   ]
  },
  {
   "cell_type": "code",
   "execution_count": null,
   "metadata": {},
   "outputs": [],
   "source": [
    "# Define trial and test functions\n",
    "u = TrialFunction(V)\n",
    "v = TestFunction(V)"
   ]
  },
  {
   "cell_type": "code",
   "execution_count": null,
   "metadata": {},
   "outputs": [],
   "source": [
    "# Define problem forms\n",
    "a_ex = inner(grad(u), grad(v))*dx\n",
    "f_ex = v*dx"
   ]
  },
  {
   "cell_type": "code",
   "execution_count": null,
   "metadata": {},
   "outputs": [],
   "source": [
    "# Define Dirichlet BC object on Gamma\n",
    "dofs_V_partial_Omega = locate_dofs_topological(V, boundaries.dim, facets_partial_Omega)\n",
    "bc_ex = DirichletBC(zero, dofs_V_partial_Omega)"
   ]
  },
  {
   "cell_type": "code",
   "execution_count": null,
   "metadata": {},
   "outputs": [],
   "source": [
    "# Solve\n",
    "u_ex = Function(V)\n",
    "solve(a_ex == f_ex, u_ex, bc_ex, petsc_options=solver_parameters)\n",
    "u_ex.vector.ghostUpdate(addv=PETSc.InsertMode.INSERT, mode=PETSc.ScatterMode.FORWARD)"
   ]
  },
  {
   "cell_type": "code",
   "execution_count": null,
   "metadata": {},
   "outputs": [],
   "source": [
    "plot(u_ex)"
   ]
  },
  {
   "cell_type": "markdown",
   "metadata": {},
   "source": [
    "### Comparison and error compuation"
   ]
  },
  {
   "cell_type": "code",
   "execution_count": null,
   "metadata": {},
   "outputs": [],
   "source": [
    "u_ex1_norm = sqrt(MPI.sum(mesh.mpi_comm(), assemble_scalar(inner(u_ex, u_ex)*dx(1))))\n",
    "u_ex2_norm = sqrt(MPI.sum(mesh.mpi_comm(), assemble_scalar(inner(u_ex, u_ex)*dx(2))))\n",
    "err1_norm = sqrt(MPI.sum(mesh.mpi_comm(), assemble_scalar(inner(u_ex - u1u2l[0], u_ex - u1u2l[0])*dx(1))))\n",
    "err2_norm = sqrt(MPI.sum(mesh.mpi_comm(), assemble_scalar(inner(u_ex - u1u2l[1], u_ex - u1u2l[1])*dx(2))))\n",
    "print(\"Relative error on subdomain 1\", err1_norm/u_ex1_norm)\n",
    "print(\"Relative error on subdomain 2\", err2_norm/u_ex2_norm)\n",
    "assert isclose(err1_norm/u_ex1_norm, 0., atol=1.e-10)\n",
    "assert isclose(err2_norm/u_ex2_norm, 0., atol=1.e-10)"
   ]
  }
 ],
 "metadata": {
  "kernelspec": {
   "display_name": "Python 3",
   "language": "python",
   "name": "python3"
  },
  "language_info": {
   "codemirror_mode": {
    "name": "ipython"
   },
   "file_extension": ".py",
   "mimetype": "text/x-python",
   "name": "python",
   "nbconvert_exporter": "python"
  }
 },
 "nbformat": 4,
 "nbformat_minor": 2
}
