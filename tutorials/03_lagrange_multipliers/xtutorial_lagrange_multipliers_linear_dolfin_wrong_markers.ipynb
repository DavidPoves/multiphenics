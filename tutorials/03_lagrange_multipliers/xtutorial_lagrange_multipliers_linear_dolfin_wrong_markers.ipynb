{
 "cells": [
  {
   "cell_type": "markdown",
   "metadata": {},
   "source": [
    "# Tutorial 03: weak imposition of Dirichlet BCs by a Lagrange multiplier (linear problem), with wrong boundary markers\n",
    "\n",
    "In this tutorial we solve the problem\n",
    "\n",
    "$$\\begin{cases}\n",
    "-\\Delta u = f, & \\text{in } \\Omega,\\\\\n",
    " u   = g, & \\text{on } \\Gamma = \\partial\\Omega,\n",
    "\\end{cases}$$\n",
    "\n",
    "where $\\Omega$ is the unit ball in 2D.\n",
    "\n",
    "We compare the following two cases:\n",
    "* **strong imposition of Dirichlet BCs**:\n",
    "the corresponding weak formulation is\n",
    "$$\n",
    "\\text{find } u \\in V_g \\text{ s.t. } \\int_\\Omega \\nabla u \\cdot \\nabla v = \\int_\\Omega f v, \\quad \\forall v \\in V_0\\\\\n",
    "$$\n",
    "where\n",
    "$$\n",
    "V_g = \\{v \\in H^1(\\Omega): v|_\\Gamma = g\\},\\\\\n",
    "V_0 = \\{v \\in H^1(\\Omega): v|_\\Gamma = 0\\}.\\\\\n",
    "$$\n",
    "* **weak imposition of Dirichlet BCs**: this requires an introduction of a multiplier $\\lambda$ which is restricted to $\\Gamma$, and solves\n",
    "$$\n",
    "\\text{find } w, \\lambda \\in V \\times M \\text{ s.t. }\\\\\n",
    "\\begin{cases}\n",
    "\\int_\\Omega \\nabla w \\cdot \\nabla v + \\int_\\Gamma \\lambda v = \\int_\\Omega f v, & \\forall v \\in V,\\\\\n",
    "\\int_\\Gamma w \\mu = \\int_\\Gamma g \\mu, & \\forall \\mu \\in M\n",
    "\\end{cases}\n",
    "$$\n",
    "where\n",
    "$$\n",
    "V = H^1(\\Omega),\\\\\n",
    "M = L^{2}(\\Gamma).\\\\\n",
    "$$\n",
    "\n",
    "This example (accompanied by the corresponding DOLFINX one at the other link) assesses the robustness of the variable restriction to errors in the marking procedure."
   ]
  },
  {
   "cell_type": "code",
   "execution_count": null,
   "metadata": {},
   "outputs": [],
   "source": [
    "import matplotlib\n",
    "import matplotlib.collections\n",
    "import matplotlib.pyplot as plt\n",
    "import numpy as np\n",
    "from mpl_toolkits.axes_grid1 import make_axes_locatable\n",
    "from ufl import grad, inner, Measure\n",
    "from dolfin import (assemble, DirichletBC, facets, Expression, Function, FunctionSpace, MeshFunction,\n",
    "                    MeshView, MixedFunctionSpace, plot, project, solve, TestFunction, TestFunctions,\n",
    "                    TrialFunction, TrialFunctions, UnitSquareMesh, vertices)"
   ]
  },
  {
   "cell_type": "markdown",
   "metadata": {},
   "source": [
    "### Tolerance for boundary marking"
   ]
  },
  {
   "cell_type": "code",
   "execution_count": null,
   "metadata": {},
   "outputs": [],
   "source": [
    "tol = np.finfo(float).eps\n",
    "# tol = 0.4"
   ]
  },
  {
   "cell_type": "markdown",
   "metadata": {},
   "source": [
    "### Auxiliary functions for plotting (adapted from tutorial 07)"
   ]
  },
  {
   "cell_type": "code",
   "execution_count": null,
   "metadata": {},
   "outputs": [],
   "source": [
    "def plot_mesh_function(mesh_function):\n",
    "    ax = plt.gca()\n",
    "    ax.set_aspect(\"equal\")\n",
    "    mesh = mesh_function.mesh()\n",
    "    tdim = mesh.topology().dim()\n",
    "    points = mesh.coordinates()\n",
    "    colors = [\"b\", \"r\"]\n",
    "    cmap = matplotlib.colors.ListedColormap(colors)\n",
    "    cmap_bounds = [0, 0.5, 1]\n",
    "    norm = matplotlib.colors.BoundaryNorm(cmap_bounds, cmap.N)\n",
    "    assert mesh_function.dim() == tdim - 1\n",
    "    linestyles = [\"solid\", \"solid\"]\n",
    "    lines = list()\n",
    "    lines_colors_as_int = list()\n",
    "    lines_colors_as_str = list()\n",
    "    lines_linestyles = list()\n",
    "    for f in facets(mesh):\n",
    "        mesh_function_f = mesh_function[f]\n",
    "        vertices_ = [v.index() for v in vertices(f)]\n",
    "        lines.append(points[vertices_][:, :2])\n",
    "        lines_colors_as_int.append(mesh_function_f)\n",
    "        lines_colors_as_str.append(colors[mesh_function_f])\n",
    "        lines_linestyles.append(linestyles[mesh_function_f])\n",
    "    mappable = matplotlib.collections.LineCollection(lines, cmap=cmap, norm=norm,\n",
    "                                                     colors=lines_colors_as_str,\n",
    "                                                     linestyles=lines_linestyles)\n",
    "    mappable.set_array(np.array(lines_colors_as_int))\n",
    "    ax.add_collection(mappable)\n",
    "    ax.autoscale()\n",
    "    divider = make_axes_locatable(ax)\n",
    "    cax = divider.append_axes(\"right\", size=\"5%\", pad=0.05)\n",
    "    plt.colorbar(mappable, cax=cax, cmap=cmap, norm=norm, boundaries=cmap_bounds, ticks=cmap_bounds)\n",
    "    return ax"
   ]
  },
  {
   "cell_type": "markdown",
   "metadata": {},
   "source": [
    "### Helper function for (possibly wrong!) boundary marking"
   ]
  },
  {
   "cell_type": "code",
   "execution_count": null,
   "metadata": {},
   "outputs": [],
   "source": [
    "def mark_boundary(tol):\n",
    "    def on_boundary(x):\n",
    "        def near(x, a, tol):\n",
    "            return np.abs(x - a) < tol\n",
    "\n",
    "        return (near(x[0], 0.0, tol) or near(x[0], 1.0, tol)\n",
    "                or near(x[1], 0.0, tol) or near(x[1], 1.0, tol))\n",
    "\n",
    "    boundaries = MeshFunction(\"size_t\", mesh, 1, 0)\n",
    "    for f in facets(mesh):\n",
    "        boundaries[f] = on_boundary(f.midpoint())\n",
    "\n",
    "    return boundaries"
   ]
  },
  {
   "cell_type": "markdown",
   "metadata": {},
   "source": [
    "### Mesh"
   ]
  },
  {
   "cell_type": "code",
   "execution_count": null,
   "metadata": {},
   "outputs": [],
   "source": [
    "mesh = UnitSquareMesh(32, 32)\n",
    "boundaries = mark_boundary(tol)"
   ]
  },
  {
   "cell_type": "code",
   "execution_count": null,
   "metadata": {},
   "outputs": [],
   "source": [
    "plot(mesh)"
   ]
  },
  {
   "cell_type": "code",
   "execution_count": null,
   "metadata": {},
   "outputs": [],
   "source": [
    "plot_mesh_function(boundaries)"
   ]
  },
  {
   "cell_type": "code",
   "execution_count": null,
   "metadata": {},
   "outputs": [],
   "source": [
    "# Define submesh\n",
    "submesh = MeshView.create(boundaries, 1)"
   ]
  },
  {
   "cell_type": "code",
   "execution_count": null,
   "metadata": {},
   "outputs": [],
   "source": [
    "# Define associated measures\n",
    "dx = Measure(\"dx\")(domain=mesh)\n",
    "ds = Measure(\"dx\")(domain=submesh)"
   ]
  },
  {
   "cell_type": "markdown",
   "metadata": {},
   "source": [
    "### Weak (and possibly wrong!) imposition of Dirichlet BCs"
   ]
  },
  {
   "cell_type": "code",
   "execution_count": null,
   "metadata": {},
   "outputs": [],
   "source": [
    "# Define a mixed function space\n",
    "V = FunctionSpace(mesh, \"Lagrange\", 2)\n",
    "M = FunctionSpace(submesh, \"Lagrange\", 2)\n",
    "W = MixedFunctionSpace(V, M)"
   ]
  },
  {
   "cell_type": "code",
   "execution_count": null,
   "metadata": {},
   "outputs": [],
   "source": [
    "# Define trial and test functions\n",
    "(u, l) = TrialFunctions(W)\n",
    "(v, m) = TestFunctions(W)"
   ]
  },
  {
   "cell_type": "code",
   "execution_count": null,
   "metadata": {},
   "outputs": [],
   "source": [
    "# Define problem block forms\n",
    "g = Expression(\"sin(3 * pi * x[0] + 1) * sin(3 * pi * x[1] + 1)\", degree=2)\n",
    "a = inner(grad(u), grad(v)) * dx + l * v * ds + u * m * ds\n",
    "f = v * dx + g * m * ds"
   ]
  },
  {
   "cell_type": "code",
   "execution_count": null,
   "metadata": {},
   "outputs": [],
   "source": [
    "# Solve\n",
    "ul = Function(W)\n",
    "solve(a == f, ul, [], solver_parameters={\"linear_solver\": \"direct\"})"
   ]
  },
  {
   "cell_type": "code",
   "execution_count": null,
   "metadata": {},
   "outputs": [],
   "source": [
    "# Split the block solution in components\n",
    "(u, l) = (ul.sub(0), ul.sub(1))"
   ]
  },
  {
   "cell_type": "code",
   "execution_count": null,
   "metadata": {},
   "outputs": [],
   "source": [
    "plot(u)"
   ]
  },
  {
   "cell_type": "markdown",
   "metadata": {},
   "source": [
    "### Strong (and correct) imposition of Dirichlet BCs for comparison"
   ]
  },
  {
   "cell_type": "code",
   "execution_count": null,
   "metadata": {},
   "outputs": [],
   "source": [
    "# Re-define trial and test functions\n",
    "u_ex = TrialFunction(V)\n",
    "v_ex = TestFunction(V)"
   ]
  },
  {
   "cell_type": "code",
   "execution_count": null,
   "metadata": {},
   "outputs": [],
   "source": [
    "# Re-define forms\n",
    "a_ex = inner(grad(u_ex), grad(v_ex)) * dx\n",
    "f_ex = v_ex * dx"
   ]
  },
  {
   "cell_type": "code",
   "execution_count": null,
   "metadata": {},
   "outputs": [],
   "source": [
    "# Define Dirichlet BC object on Gamma\n",
    "boundaries_ex = mark_boundary(np.finfo(float).eps)\n",
    "bc_ex = DirichletBC(V, g, boundaries_ex, 1)"
   ]
  },
  {
   "cell_type": "code",
   "execution_count": null,
   "metadata": {},
   "outputs": [],
   "source": [
    "# Solve\n",
    "u_ex = Function(V)\n",
    "solve(a_ex == f_ex, u_ex, bc_ex, solver_parameters={\"linear_solver\": \"direct\"})"
   ]
  },
  {
   "cell_type": "code",
   "execution_count": null,
   "metadata": {},
   "outputs": [],
   "source": [
    "plot(u_ex)"
   ]
  },
  {
   "cell_type": "markdown",
   "metadata": {},
   "source": [
    "### Comparison and error compuation"
   ]
  },
  {
   "cell_type": "code",
   "execution_count": null,
   "metadata": {},
   "outputs": [],
   "source": [
    "u_ex_norm = np.sqrt(assemble(inner(grad(u_ex), grad(u_ex)) * dx))\n",
    "err_norm = np.sqrt(assemble(inner(grad(u_ex - u), grad(u_ex - u)) * dx))\n",
    "print(\"Relative error is equal to\", err_norm / u_ex_norm)"
   ]
  }
 ],
 "metadata": {
  "kernelspec": {
   "display_name": "Python 3",
   "language": "python",
   "name": "python3"
  },
  "language_info": {
   "codemirror_mode": {
    "name": "ipython"
   },
   "file_extension": ".py",
   "mimetype": "text/x-python",
   "name": "python",
   "nbconvert_exporter": "python"
  }
 },
 "nbformat": 4,
 "nbformat_minor": 2
}
