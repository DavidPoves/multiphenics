{
 "cells": [
  {
   "cell_type": "markdown",
   "metadata": {},
   "source": [
    "# Tutorial 03: weak imposition of Dirichlet BCs by a Lagrange multiplier (nonlinear problem)\n",
    "\n",
    "In this tutorial we solve the problem\n",
    "\n",
    "$$\\begin{align*}\n",
    "&\\min_{u} \\int_\\Omega \\left\\{ (1 + u^2)\\ |\\nabla u|^2 - u \\right\\} dx,\\\\\n",
    "&\\text{s.t. } u = g\\text{ on }\\Gamma = \\partial \\Omega\n",
    "\\end{align*}$$\n",
    "where $\\Omega$ is the unit ball in 2D.\n",
    "\n",
    "The optimality conditions result in the following nonlinear problem\n",
    "\n",
    "$$\\begin{align*}\n",
    "&\\int_\\Omega (1+u^2)\\ \\nabla u \\cdot \\nabla v dx + \\int_\\Omega u \\ |\\nabla u|^2 v dx = \\int_\\Omega v dx\\\\\n",
    "&\\text{s.t. } u = g\\text{ on }\\Gamma = \\partial \\Omega\n",
    "\\end{align*}$$\n",
    "\n",
    "\n",
    "We compare the following two cases:\n",
    "* **strong imposition of Dirichlet BCs**:\n",
    "the corresponding weak formulation is\n",
    "$$\n",
    "\\text{find } u \\in V_g \\text{ s.t. } \\int_\\Omega (1+u^2)\\ \\nabla u \\cdot \\nabla v dx + \\int_\\Omega u \\ |\\nabla u|^2 v dx = \\int_\\Omega v dx, \\quad \\forall v \\in V_0\\\\\n",
    "$$\n",
    "where\n",
    "$$\n",
    "V_g = \\{v \\in H^1(\\Omega): v|_\\Gamma = g\\},\\\\\n",
    "V_0 = \\{v \\in H^1(\\Omega): v|_\\Gamma = 0\\}.\\\\\n",
    "$$\n",
    "* **weak imposition of Dirichlet BCs**: this requires an introduction of a multiplier $\\lambda$ which is restricted to $\\Gamma$, and solves\n",
    "$$\n",
    "\\text{find } w, \\lambda \\in V \\times M \\text{ s.t. }\\\\\n",
    "\\begin{cases}\n",
    "\\int_\\Omega (1+u^2)\\ \\nabla u \\cdot \\nabla v dx + \\int_\\Omega u \\ |\\nabla u|^2 v dx + \\int_\\Gamma \\lambda v = \\int_\\Omega v, & \\forall v \\in V,\\\\\n",
    "\\int_\\Gamma w \\mu = \\int_\\Gamma g \\mu, & \\forall \\mu \\in M\n",
    "\\end{cases}\n",
    "$$\n",
    "where\n",
    "$$\n",
    "V = H^1(\\Omega),\\\\\n",
    "M = L^{2}(\\Gamma).\\\\\n",
    "$$\n",
    "\n",
    "This example is a prototypical case of problems containing subdomain/boundary restricted variables (the Lagrange multiplier, in this case)."
   ]
  },
  {
   "cell_type": "code",
   "execution_count": null,
   "metadata": {},
   "outputs": [],
   "source": [
    "from numpy import arange, isclose, sin, sqrt, where\n",
    "from petsc4py import PETSc\n",
    "from ufl import derivative, grad, inner, Measure, replace\n",
    "from dolfinx import *\n",
    "from dolfinx.cpp.mesh import GhostMode\n",
    "from dolfinx.fem import assemble_matrix, assemble_scalar, assemble_vector, locate_dofs_topological\n",
    "from dolfinx.io import XDMFFile\n",
    "from dolfinx.plotting import plot\n",
    "from multiphenics import *\n",
    "from multiphenics.fem import DirichletBCLegacy"
   ]
  },
  {
   "cell_type": "markdown",
   "metadata": {},
   "source": [
    "### Mesh"
   ]
  },
  {
   "cell_type": "code",
   "execution_count": null,
   "metadata": {},
   "outputs": [],
   "source": [
    "with XDMFFile(MPI.comm_world, \"data/circle.xdmf\") as infile:\n",
    "    mesh = infile.read_mesh(GhostMode.none)\n",
    "with XDMFFile(MPI.comm_world, \"data/circle_subdomains.xdmf\") as infile:\n",
    "    subdomains = infile.read_mf_size_t(mesh)\n",
    "with XDMFFile(MPI.comm_world, \"data/circle_boundaries.xdmf\") as infile:\n",
    "    boundaries = infile.read_mf_size_t(mesh)\n",
    "facets_Gamma = where(boundaries.values == 1)[0]"
   ]
  },
  {
   "cell_type": "code",
   "execution_count": null,
   "metadata": {},
   "outputs": [],
   "source": [
    "# Define associated measures\n",
    "dx = Measure(\"dx\")(subdomain_data=subdomains)\n",
    "ds = Measure(\"ds\")(subdomain_data=boundaries)"
   ]
  },
  {
   "cell_type": "markdown",
   "metadata": {},
   "source": [
    "### Weak imposition of Dirichlet BCs"
   ]
  },
  {
   "cell_type": "code",
   "execution_count": null,
   "metadata": {},
   "outputs": [],
   "source": [
    "# Define a block function space\n",
    "V = FunctionSpace(mesh, (\"Lagrange\", 2))\n",
    "dofs_V = arange(0, V.dofmap.index_map.block_size*(V.dofmap.index_map.size_local + V.dofmap.index_map.num_ghosts))\n",
    "dofs_V_Gamma = locate_dofs_topological(V, boundaries.dim, facets_Gamma)\n",
    "W = BlockFunctionSpace([V, V], restrict=[dofs_V, dofs_V_Gamma])"
   ]
  },
  {
   "cell_type": "code",
   "execution_count": null,
   "metadata": {},
   "outputs": [],
   "source": [
    "# Define trial and test functions, as well as solution\n",
    "dul = BlockTrialFunction(W)\n",
    "(du, dl) = block_split(dul)\n",
    "ul = BlockFunction(W)\n",
    "(u, l) = block_split(ul)\n",
    "vm = BlockTestFunction(W)\n",
    "(v, m) = block_split(vm)"
   ]
  },
  {
   "cell_type": "code",
   "execution_count": null,
   "metadata": {},
   "outputs": [],
   "source": [
    "# Define problem block forms\n",
    "g = Function(V)\n",
    "g.interpolate(lambda x: sin(3*x[0] + 1)*sin(3*x[1] + 1))\n",
    "F = [inner((1+u**2)*grad(u), grad(v))*dx + u*v*inner(grad(u), grad(u))*dx + l*v*ds - v*dx,\n",
    "     u*m*ds - g*m*ds]\n",
    "F = BlockForm1(F, [W])\n",
    "J = block_derivative(F, ul, dul)"
   ]
  },
  {
   "cell_type": "code",
   "execution_count": null,
   "metadata": {},
   "outputs": [],
   "source": [
    "# Solve\n",
    "def set_solver_parameters(solver):\n",
    "    solver.max_it = 20\n",
    "\n",
    "problem = BlockNonlinearProblem(F, ul, None, J)\n",
    "solver = BlockNewtonSolver(mesh.mpi_comm())\n",
    "set_solver_parameters(solver)\n",
    "solver.solve(problem, ul.block_vector)"
   ]
  },
  {
   "cell_type": "code",
   "execution_count": null,
   "metadata": {},
   "outputs": [],
   "source": [
    "plot(ul[0])"
   ]
  },
  {
   "cell_type": "markdown",
   "metadata": {},
   "source": [
    "### Strong imposition of Dirichlet BCs"
   ]
  },
  {
   "cell_type": "code",
   "execution_count": null,
   "metadata": {},
   "outputs": [],
   "source": [
    "# Class for interfacing with the Newton solver\n",
    "class LagrangeMultipliersNonlinearProblem(NonlinearProblem):\n",
    "    def __init__(self, F, up, bc, J):\n",
    "        NonlinearProblem.__init__(self)\n",
    "        self._F = F\n",
    "        self._up = up\n",
    "        self._bc = bc\n",
    "        self._J = J\n",
    "        self._F_vec = None\n",
    "        self._J_mat = None\n",
    "\n",
    "    def form(self, x):\n",
    "        x.ghostUpdate(addv=PETSc.InsertMode.INSERT, mode=PETSc.ScatterMode.FORWARD)\n",
    "\n",
    "    def F(self, _):\n",
    "        if self._F_vec is None:\n",
    "            self._F_vec = assemble_vector(self._F)\n",
    "        else:\n",
    "            with self._F_vec.localForm() as f_local:\n",
    "                f_local.set(0.0)\n",
    "            assemble_vector(self._F_vec, self._F)\n",
    "        self._F_vec.ghostUpdate(addv=PETSc.InsertMode.ADD, mode=PETSc.ScatterMode.REVERSE)\n",
    "        DirichletBCLegacy.apply(self._bc, self._F_vec, self._up.vector)\n",
    "        return self._F_vec\n",
    "\n",
    "    def J(self, _):\n",
    "        if self._J_mat is None:\n",
    "            self._J_mat = assemble_matrix(self._J)\n",
    "        else:\n",
    "            self._J_mat.zeroEntries()\n",
    "            assemble_matrix(self._J_mat, self._J)\n",
    "        self._J_mat.assemble()\n",
    "        DirichletBCLegacy.apply(self._bc, self._J_mat, 1.0)\n",
    "        return self._J_mat"
   ]
  },
  {
   "cell_type": "code",
   "execution_count": null,
   "metadata": {},
   "outputs": [],
   "source": [
    "# Define problem block forms\n",
    "u_ex = Function(V)\n",
    "F_ex = replace(F[0], {u: u_ex, l: 0})\n",
    "J_ex = derivative(F_ex, u_ex, du)"
   ]
  },
  {
   "cell_type": "code",
   "execution_count": null,
   "metadata": {},
   "outputs": [],
   "source": [
    "# Define Dirichlet BC object on Gamma\n",
    "bc_ex = [DirichletBC(g, dofs_V_Gamma)]"
   ]
  },
  {
   "cell_type": "code",
   "execution_count": null,
   "metadata": {},
   "outputs": [],
   "source": [
    "# Solve\n",
    "problem_ex = LagrangeMultipliersNonlinearProblem(F_ex, u_ex, bc_ex, J_ex)\n",
    "solver_ex = NewtonSolver(mesh.mpi_comm())\n",
    "set_solver_parameters(solver_ex)\n",
    "solver_ex.solve(problem_ex, u_ex.vector)"
   ]
  },
  {
   "cell_type": "code",
   "execution_count": null,
   "metadata": {},
   "outputs": [],
   "source": [
    "plot(u_ex)"
   ]
  },
  {
   "cell_type": "markdown",
   "metadata": {},
   "source": [
    "### Comparison and error compuation"
   ]
  },
  {
   "cell_type": "code",
   "execution_count": null,
   "metadata": {},
   "outputs": [],
   "source": [
    "u_ex_norm = sqrt(MPI.sum(mesh.mpi_comm(), assemble_scalar(inner(grad(u_ex), grad(u_ex))*dx)))\n",
    "err_norm = sqrt(MPI.sum(mesh.mpi_comm(), assemble_scalar(inner(grad(u_ex - ul[0]), grad(u_ex - ul[0]))*dx)))\n",
    "print(\"Relative error is equal to\", err_norm/u_ex_norm)\n",
    "assert isclose(err_norm/u_ex_norm, 0., atol=1.e-9)"
   ]
  }
 ],
 "metadata": {
  "kernelspec": {
   "display_name": "Python 3",
   "language": "python",
   "name": "python3"
  },
  "language_info": {
   "codemirror_mode": {
    "name": "ipython"
   },
   "file_extension": ".py",
   "mimetype": "text/x-python",
   "name": "python",
   "nbconvert_exporter": "python"
  }
 },
 "nbformat": 4,
 "nbformat_minor": 2
}
