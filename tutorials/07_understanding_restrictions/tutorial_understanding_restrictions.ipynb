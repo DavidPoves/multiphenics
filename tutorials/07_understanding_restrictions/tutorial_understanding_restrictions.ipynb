{
 "cells": [
  {
   "cell_type": "markdown",
   "metadata": {},
   "source": [
    "# Tutorial 07: understanding restrictions and BlockDofMap"
   ]
  },
  {
   "cell_type": "code",
   "execution_count": null,
   "metadata": {},
   "outputs": [],
   "source": [
    "import matplotlib\n",
    "import matplotlib.collections\n",
    "import matplotlib.pyplot as plt\n",
    "import matplotlib.tri as tri\n",
    "from mpl_toolkits.axes_grid1 import make_axes_locatable\n",
    "from numpy import array, array2string, unique, where, zeros\n",
    "from ufl import *\n",
    "from dolfinx import *\n",
    "from dolfinx.cpp.generation import UnitDiscMesh\n",
    "from dolfinx.cpp.mesh import GhostMode, cell_num_entities\n",
    "from dolfinx.fem import locate_dofs_topological\n",
    "from dolfinx.io import XDMFFile\n",
    "from multiphenics import *"
   ]
  },
  {
   "cell_type": "markdown",
   "metadata": {},
   "source": [
    "### Auxiliary functions for plotting"
   ]
  },
  {
   "cell_type": "code",
   "execution_count": null,
   "metadata": {},
   "outputs": [],
   "source": [
    "def plot_mesh(mesh, ax=None):\n",
    "    if ax is None:\n",
    "        ax = plt.gca()\n",
    "    ax.set_aspect(\"equal\")\n",
    "    points = mesh.geometry.points\n",
    "    tria = tri.Triangulation(points[:, 0], points[:, 1], mesh.cells())\n",
    "    ax.triplot(tria, color=\"k\")\n",
    "    return ax"
   ]
  },
  {
   "cell_type": "code",
   "execution_count": null,
   "metadata": {},
   "outputs": [],
   "source": [
    "def plot_mesh_function(mesh_function, ax=None):\n",
    "    if ax is None:\n",
    "        ax = plt.gca()\n",
    "    ax.set_aspect(\"equal\")\n",
    "    mesh = mesh_function.mesh()\n",
    "    points = mesh.geometry.points\n",
    "    cells = mesh.cells()\n",
    "    colors = [\"b\", \"r\"]\n",
    "    cmap = matplotlib.colors.ListedColormap(colors)\n",
    "    cmap_bounds = [0, 0.5, 1]\n",
    "    norm = matplotlib.colors.BoundaryNorm(cmap_bounds, cmap.N)\n",
    "    assert mesh_function.dim in (mesh.topology.dim, mesh.topology.dim - 1)\n",
    "    if mesh_function.dim == mesh.topology.dim:\n",
    "        tria = tri.Triangulation(points[:, 0], points[:, 1], mesh.cells())\n",
    "        cell_colors = zeros((mesh.cells().shape[0], ))\n",
    "        for v in (0, 1):\n",
    "            cell_colors[where(mesh_function.values == v)[0]] = v\n",
    "        mappable = ax.tripcolor(tria, cell_colors, edgecolor=\"k\", cmap=cmap, norm=norm)\n",
    "    elif mesh_function.dim == mesh.topology.dim - 1:\n",
    "        tdim = mesh.topology.dim\n",
    "        connectivity_cells_to_facets = mesh.topology.connectivity(tdim, tdim - 1)\n",
    "        connectivity_facets_to_vertices = mesh.topology.connectivity(tdim - 1, 0)\n",
    "        linestyles = [(0, (5, 10)), \"solid\"]\n",
    "        lines = list()\n",
    "        lines_colors_as_int = list()\n",
    "        lines_colors_as_str = list()\n",
    "        lines_linestyles = list()\n",
    "        for c in range(mesh.num_cells()):\n",
    "            facets = connectivity_cells_to_facets.links(c)\n",
    "            for f in facets:\n",
    "                mesh_function_f = mesh_function.values[f]\n",
    "                vertices = connectivity_facets_to_vertices.links(f)\n",
    "                lines.append(points[vertices][:, :2])\n",
    "                lines_colors_as_int.append(mesh_function_f)\n",
    "                lines_colors_as_str.append(colors[mesh_function_f])\n",
    "                lines_linestyles.append(linestyles[mesh_function_f])\n",
    "        mappable = matplotlib.collections.LineCollection(lines, cmap=cmap, norm=norm, colors=lines_colors_as_str, linestyles=lines_linestyles)\n",
    "        mappable.set_array(array(lines_colors_as_int))\n",
    "        ax.add_collection(mappable)\n",
    "        ax.autoscale()\n",
    "    divider = make_axes_locatable(ax)\n",
    "    cax = divider.append_axes(\"right\", size=\"5%\", pad=0.05)\n",
    "    plt.colorbar(mappable, cax=cax, cmap=cmap, norm=norm, boundaries=cmap_bounds, ticks=cmap_bounds)\n",
    "    return ax"
   ]
  },
  {
   "cell_type": "code",
   "execution_count": null,
   "metadata": {},
   "outputs": [],
   "source": [
    "def plot_dofmap(V, ax=None):\n",
    "    if ax is None:\n",
    "        ax = plt.gca()\n",
    "    text_offset = [1e-2, 1e-2]\n",
    "    coordinates = V.tabulate_dof_coordinates().round(decimals=3)\n",
    "    ax.scatter(coordinates[:, 0], coordinates[:, 1], c=\"k\", s=50)\n",
    "    for c in unique(coordinates, axis=0):\n",
    "        dofs_c = (coordinates == c).all(axis=1).nonzero()[0]\n",
    "        text_c = array2string(dofs_c, separator=\", \", max_line_width=10)\n",
    "        ax.text(c[0] + text_offset[0], c[1] + text_offset[1], text_c, fontsize=20)\n",
    "    return ax"
   ]
  },
  {
   "cell_type": "markdown",
   "metadata": {},
   "source": [
    "### Mesh\n",
    "\n",
    "Read in a simple mesh consisting in an hexagon discretized with six equilateral triangle cells."
   ]
  },
  {
   "cell_type": "code",
   "execution_count": null,
   "metadata": {},
   "outputs": [],
   "source": [
    "with XDMFFile(MPI.comm_world, \"data/hexagon.xdmf\") as infile:\n",
    "    mesh = infile.read_mesh(GhostMode.none)"
   ]
  },
  {
   "cell_type": "code",
   "execution_count": null,
   "metadata": {},
   "outputs": [],
   "source": [
    "plot_mesh(mesh)"
   ]
  },
  {
   "cell_type": "markdown",
   "metadata": {},
   "source": [
    "### Mesh restrictions on cells\n",
    "\n",
    "Read in a mesh function on cells, which is equal to one on all cells."
   ]
  },
  {
   "cell_type": "code",
   "execution_count": null,
   "metadata": {},
   "outputs": [],
   "source": [
    "with XDMFFile(MPI.comm_world, \"data/hexagon_cell_restriction_all.xdmf\") as infile:\n",
    "    cell_restriction_all = infile.read_mf_size_t(mesh)"
   ]
  },
  {
   "cell_type": "code",
   "execution_count": null,
   "metadata": {},
   "outputs": [],
   "source": [
    "plot_mesh_function(cell_restriction_all)"
   ]
  },
  {
   "cell_type": "markdown",
   "metadata": {},
   "source": [
    "Read in a mesh function on cells, which is equal to zero on one half of the cells, and equal to one on the other half of the cells"
   ]
  },
  {
   "cell_type": "code",
   "execution_count": null,
   "metadata": {},
   "outputs": [],
   "source": [
    "with XDMFFile(MPI.comm_world, \"data/hexagon_cell_restriction_subset.xdmf\") as infile:\n",
    "    cell_restriction_subset = infile.read_mf_size_t(mesh)"
   ]
  },
  {
   "cell_type": "code",
   "execution_count": null,
   "metadata": {},
   "outputs": [],
   "source": [
    "plot_mesh_function(cell_restriction_subset)"
   ]
  },
  {
   "cell_type": "markdown",
   "metadata": {},
   "source": [
    "### Mesh restrictions on facets\n",
    "\n",
    "Define a mesh function on facets, which is equal to one on all facets"
   ]
  },
  {
   "cell_type": "code",
   "execution_count": null,
   "metadata": {},
   "outputs": [],
   "source": [
    "with XDMFFile(MPI.comm_world, \"data/hexagon_facet_restriction_all.xdmf\") as infile:\n",
    "    facet_restriction_all = infile.read_mf_size_t(mesh)"
   ]
  },
  {
   "cell_type": "code",
   "execution_count": null,
   "metadata": {},
   "outputs": [],
   "source": [
    "plot_mesh_function(facet_restriction_all)"
   ]
  },
  {
   "cell_type": "code",
   "execution_count": null,
   "metadata": {},
   "outputs": [],
   "source": [
    "with XDMFFile(MPI.comm_world, \"data/hexagon_facet_restriction_subset.xdmf\") as infile:\n",
    "    facet_restriction_subset = infile.read_mf_size_t(mesh)"
   ]
  },
  {
   "cell_type": "code",
   "execution_count": null,
   "metadata": {},
   "outputs": [],
   "source": [
    "plot_mesh_function(facet_restriction_subset)"
   ]
  },
  {
   "cell_type": "code",
   "execution_count": null,
   "metadata": {},
   "outputs": [],
   "source": [
    "cell_restrictions = (cell_restriction_all, cell_restriction_subset)\n",
    "facet_restrictions = (facet_restriction_all, facet_restriction_subset)\n",
    "all_restrictions = cell_restrictions + facet_restrictions"
   ]
  },
  {
   "cell_type": "markdown",
   "metadata": {},
   "source": [
    "### Lagrange spaces\n",
    "\n",
    "Define Lagrange FE spaces of order $k=1, 2, 3$, and plot the associated DofMap."
   ]
  },
  {
   "cell_type": "code",
   "execution_count": null,
   "metadata": {},
   "outputs": [],
   "source": [
    "CG = [FunctionSpace(mesh, (\"Lagrange\", k)) for k in (1, 2, 3)]"
   ]
  },
  {
   "cell_type": "code",
   "execution_count": null,
   "metadata": {},
   "outputs": [],
   "source": [
    "_, ax = plt.subplots(3, 1, figsize=(10, 30))\n",
    "for (k, CGk) in enumerate(CG):\n",
    "    plot_mesh(mesh, ax[k])\n",
    "    plot_dofmap(CGk, ax[k])\n",
    "    ax[k].set_title(\"CG \" + str(k + 1) + \" FunctionSpace\", fontsize=30)"
   ]
  },
  {
   "cell_type": "markdown",
   "metadata": {},
   "source": [
    "Define multiphenics block function spaces associated to the Lagrange FE spaces, for all four restrictions"
   ]
  },
  {
   "cell_type": "code",
   "execution_count": null,
   "metadata": {},
   "outputs": [],
   "source": [
    "block_CG = dict()\n",
    "for restriction in all_restrictions:\n",
    "    block_CG[restriction] = list()\n",
    "    for CGk in CG:\n",
    "        restrict_CGk = locate_dofs_topological(CGk, restriction.dim, where(restriction.values == 1)[0])\n",
    "        block_CG[restriction].append(BlockFunctionSpace([CGk], restrict=[restrict_CGk]))"
   ]
  },
  {
   "cell_type": "markdown",
   "metadata": {},
   "source": [
    "Compare DOFs for the case of cell restriction equal to one on the entire domain. There is indeed no difference."
   ]
  },
  {
   "cell_type": "code",
   "execution_count": null,
   "metadata": {},
   "outputs": [],
   "source": [
    "_, ax = plt.subplots(3, 2, figsize=(20, 30))\n",
    "for (k, CGk) in enumerate(CG):\n",
    "    plot_mesh(mesh, ax[k, 0])\n",
    "    plot_dofmap(CGk, ax[k, 0])\n",
    "    ax[k, 0].set_title(\"CG \" + str(k + 1) + \" FunctionSpace\", fontsize=30)\n",
    "for (k, block_CGk) in enumerate(block_CG[cell_restriction_all]):\n",
    "    plot_mesh_function(cell_restriction_all, ax[k, 1])\n",
    "    plot_dofmap(block_CGk, ax[k, 1])\n",
    "    ax[k, 1].set_title(\"CG \" + str(k + 1) + \" BlockFunctionSpace\", fontsize=30)"
   ]
  },
  {
   "cell_type": "markdown",
   "metadata": {},
   "source": [
    "Compare DOFs for che case of cell restriction equal to one on a subset of the domain. Note how the BlockFunctionSpace has only a subset of the DOFs of the FunctionSpace, and properly renumbers them."
   ]
  },
  {
   "cell_type": "code",
   "execution_count": null,
   "metadata": {},
   "outputs": [],
   "source": [
    "_, ax = plt.subplots(3, 2, figsize=(20, 30))\n",
    "for (k, CGk) in enumerate(CG):\n",
    "    plot_mesh(mesh, ax[k, 0])\n",
    "    plot_dofmap(CGk, ax[k, 0])\n",
    "    ax[k, 0].set_title(\"CG \" + str(k + 1) + \" FunctionSpace\", fontsize=30)\n",
    "for (k, block_CGk) in enumerate(block_CG[cell_restriction_subset]):\n",
    "    plot_mesh_function(cell_restriction_subset, ax[k, 1])\n",
    "    plot_dofmap(block_CGk, ax[k, 1])\n",
    "    ax[k, 1].set_title(\"CG \" + str(k + 1) + \" BlockFunctionSpace\", fontsize=30)"
   ]
  },
  {
   "cell_type": "markdown",
   "metadata": {},
   "source": [
    "Compare DOFs for che case of facet restriction equal to one on the entire domain. Note how there is no difference for $k=1, 2$, but the cases $k=3$ differ (the BlockFunctionSpace does not have the DOF at the cell center)."
   ]
  },
  {
   "cell_type": "code",
   "execution_count": null,
   "metadata": {},
   "outputs": [],
   "source": [
    "_, ax = plt.subplots(3, 2, figsize=(20, 30))\n",
    "for (k, CGk) in enumerate(CG):\n",
    "    plot_mesh(mesh, ax[k, 0])\n",
    "    plot_dofmap(CG[k], ax[k, 0])\n",
    "    ax[k, 0].set_title(\"CG \" + str(k + 1) + \" FunctionSpace\", fontsize=30)\n",
    "for (k, block_CGk) in enumerate(block_CG[facet_restriction_all]):\n",
    "    plot_mesh_function(facet_restriction_all, ax[k, 1])\n",
    "    plot_dofmap(block_CGk, ax[k, 1])\n",
    "    ax[k, 1].set_title(\"CG \" + str(k + 1) + \" BlockFunctionSpace\", fontsize=30)"
   ]
  },
  {
   "cell_type": "markdown",
   "metadata": {},
   "source": [
    "Compare DOFs for che case of facet restriction equal to one on a subset of the domain. Note how the BlockFunctionSpace has only a subset of the DOFs of the FunctionSpace, and properly renumbers them."
   ]
  },
  {
   "cell_type": "code",
   "execution_count": null,
   "metadata": {},
   "outputs": [],
   "source": [
    "_, ax = plt.subplots(3, 2, figsize=(20, 30))\n",
    "for (k, CGk) in enumerate(CG):\n",
    "    plot_mesh(mesh, ax[k, 0])\n",
    "    plot_dofmap(CG[k], ax[k, 0])\n",
    "    ax[k, 0].set_title(\"CG \" + str(k + 1) + \" FunctionSpace\", fontsize=30)\n",
    "for (k, block_CGk) in enumerate(block_CG[facet_restriction_subset]):\n",
    "    plot_mesh_function(facet_restriction_subset, ax[k, 1])\n",
    "    plot_dofmap(block_CGk, ax[k, 1])\n",
    "    ax[k, 1].set_title(\"CG \" + str(k + 1) + \" BlockFunctionSpace\", fontsize=30)"
   ]
  },
  {
   "cell_type": "markdown",
   "metadata": {},
   "source": [
    "### Discontinuous Galerkin spaces\n",
    "\n",
    "Define Discontinuous Galerkin spaces of order $k = 0, 1, 2$, and plot the associated DofMap. This spaces will be used in combination with a cell restriction, as DG DOFs are associated to cells."
   ]
  },
  {
   "cell_type": "code",
   "execution_count": null,
   "metadata": {},
   "outputs": [],
   "source": [
    "DG = [FunctionSpace(mesh, (\"Discontinuous Lagrange\", k)) for k in (0, 1, 2)]"
   ]
  },
  {
   "cell_type": "code",
   "execution_count": null,
   "metadata": {},
   "outputs": [],
   "source": [
    "_, ax = plt.subplots(3, 1, figsize=(10, 30))\n",
    "for (k, DGk) in enumerate(DG):\n",
    "    plot_mesh(mesh, ax[k])\n",
    "    plot_dofmap(DGk, ax[k])\n",
    "    ax[k].set_title(\"DG \" + str(k) + \" FunctionSpace\", fontsize=30)"
   ]
  },
  {
   "cell_type": "markdown",
   "metadata": {},
   "source": [
    "Define Discontinuous Galerkin Trace spaces of order $k = 0, 1, 2, 3$, and plot the associated DofMap. This spaces will be used in combination with a facet restriction, as DGT DOFs are associated to facets."
   ]
  },
  {
   "cell_type": "code",
   "execution_count": null,
   "metadata": {},
   "outputs": [],
   "source": [
    "DGT = [FunctionSpace(mesh, (\"Discontinuous Lagrange Trace\", k)) for k in (0, 1, 2)]"
   ]
  },
  {
   "cell_type": "code",
   "execution_count": null,
   "metadata": {},
   "outputs": [],
   "source": [
    "_, ax = plt.subplots(3, 1, figsize=(10, 30))\n",
    "for (k, DGTk) in enumerate(DGT):\n",
    "    plot_mesh(mesh, ax[k])\n",
    "    plot_dofmap(DGTk, ax[k])\n",
    "    ax[k].set_title(\"DGT \" + str(k) + \" FunctionSpace\\n\", fontsize=30)"
   ]
  },
  {
   "cell_type": "markdown",
   "metadata": {},
   "source": [
    "Define multiphenics block function spaces associated to the Discontinuos Galerkin FE spaces, for all cell restrictions"
   ]
  },
  {
   "cell_type": "code",
   "execution_count": null,
   "metadata": {},
   "outputs": [],
   "source": [
    "block_DG = dict()\n",
    "for restriction in cell_restrictions:\n",
    "    block_DG[restriction] = list()\n",
    "    for DGk in DG:\n",
    "        restrict_DGk = locate_dofs_topological(DGk, restriction.dim, where(restriction.values == 1)[0])\n",
    "        block_DG[restriction].append(BlockFunctionSpace([DGk], restrict=[restrict_DGk]))"
   ]
  },
  {
   "cell_type": "markdown",
   "metadata": {},
   "source": [
    "Define multiphenics block function spaces associated to the Discontinuos Galerkin Trace FE spaces, for all facet restrictions"
   ]
  },
  {
   "cell_type": "code",
   "execution_count": null,
   "metadata": {},
   "outputs": [],
   "source": [
    "block_DGT = dict()\n",
    "for restriction in facet_restrictions:\n",
    "    block_DGT[restriction] = list()\n",
    "    for DGTk in DGT:\n",
    "        restrict_DGTk = locate_dofs_topological(DGTk, restriction.dim, where(restriction.values == 1)[0])\n",
    "        block_DGT[restriction].append(BlockFunctionSpace([DGTk], restrict=[restrict_DGTk]))"
   ]
  },
  {
   "cell_type": "markdown",
   "metadata": {},
   "source": [
    "Compare DOFs for the case of cell restriction equal to one on the entire domain. There is indeed no difference."
   ]
  },
  {
   "cell_type": "code",
   "execution_count": null,
   "metadata": {},
   "outputs": [],
   "source": [
    "_, ax = plt.subplots(3, 2, figsize=(20, 30))\n",
    "for (k, DGk) in enumerate(DG):\n",
    "    plot_mesh(mesh, ax[k, 0])\n",
    "    plot_dofmap(DGk, ax[k, 0])\n",
    "    ax[k, 0].set_title(\"DG \" + str(k) + \" FunctionSpace\", fontsize=30)\n",
    "for (k, block_DGk) in enumerate(block_DG[cell_restriction_all]):\n",
    "    plot_mesh_function(cell_restriction_all, ax[k, 1])\n",
    "    plot_dofmap(block_DGk, ax[k, 1])\n",
    "    ax[k, 1].set_title(\"DG \" + str(k) + \" BlockFunctionSpace\", fontsize=30)"
   ]
  },
  {
   "cell_type": "markdown",
   "metadata": {},
   "source": [
    "Compare DOFs for che case of cell restriction equal to one on a subset of the domain. Note how the BlockFunctionSpace has only a subset of the DOFs of the FunctionSpace, and properly renumbers them. Note also that the number of DOFs at the same physical location might be different between FunctionSpace and BlockFunction (see e.g. the center of the hexagon)."
   ]
  },
  {
   "cell_type": "code",
   "execution_count": null,
   "metadata": {},
   "outputs": [],
   "source": [
    "_, ax = plt.subplots(3, 2, figsize=(20, 30))\n",
    "for (k, DGk) in enumerate(DG):\n",
    "    plot_mesh(mesh, ax[k, 0])\n",
    "    plot_dofmap(DGk, ax[k, 0])\n",
    "    ax[k, 0].set_title(\"DG \" + str(k) + \" FunctionSpace\", fontsize=30)\n",
    "for (k, block_DGk) in enumerate(block_DG[cell_restriction_subset]):\n",
    "    plot_mesh_function(cell_restriction_subset, ax[k, 1])\n",
    "    plot_dofmap(block_DGk, ax[k, 1])\n",
    "    ax[k, 1].set_title(\"DG \" + str(k) + \" BlockFunctionSpace\", fontsize=30)"
   ]
  },
  {
   "cell_type": "markdown",
   "metadata": {},
   "source": [
    "Compare DOFs for che case of facet restriction equal to one on the entire domain. There is indeed no difference."
   ]
  },
  {
   "cell_type": "code",
   "execution_count": null,
   "metadata": {},
   "outputs": [],
   "source": [
    "_, ax = plt.subplots(3, 2, figsize=(20, 30))\n",
    "for (k, DGTk) in enumerate(DGT):\n",
    "    plot_mesh(mesh, ax[k, 0])\n",
    "    plot_dofmap(DGTk, ax[k, 0])\n",
    "    ax[k, 0].set_title(\"DGT \" + str(k) + \" FunctionSpace\\n\", fontsize=30)\n",
    "for (k, block_DGTk) in enumerate(block_DGT[facet_restriction_all]):\n",
    "    plot_mesh_function(facet_restriction_all, ax[k, 1])\n",
    "    plot_dofmap(block_DGTk, ax[k, 1])\n",
    "    ax[k, 1].set_title(\"DGT \" + str(k) + \" BlockFunctionSpace\\n\", fontsize=30)"
   ]
  },
  {
   "cell_type": "markdown",
   "metadata": {},
   "source": [
    "Compare DOFs for che case of facet restriction equal to one on a subset of the domain. Note how the BlockFunctionSpace has only a subset of the DOFs of the FunctionSpace, and properly renumbers them. Note also that the number of DOFs at the same physical location might be different between FunctionSpace and BlockFunction (see e.g. the center of the hexagon)."
   ]
  },
  {
   "cell_type": "code",
   "execution_count": null,
   "metadata": {},
   "outputs": [],
   "source": [
    "_, ax = plt.subplots(3, 2, figsize=(20, 30))\n",
    "for (k, DGTk) in enumerate(DGT):\n",
    "    plot_mesh(mesh, ax[k, 0])\n",
    "    plot_dofmap(DGTk, ax[k, 0])\n",
    "    ax[k, 0].set_title(\"DGT \" + str(k) + \" FunctionSpace\\n\", fontsize=30)\n",
    "for (k, block_DGTk) in enumerate(block_DGT[facet_restriction_subset]):\n",
    "    plot_mesh_function(facet_restriction_subset, ax[k, 1])\n",
    "    plot_dofmap(block_DGTk, ax[k, 1])\n",
    "    ax[k, 1].set_title(\"DGT \" + str(k) + \" BlockFunctionSpace\\n\", fontsize=30)"
   ]
  }
 ],
 "metadata": {
  "kernelspec": {
   "display_name": "Python 3",
   "language": "python",
   "name": "python3"
  },
  "language_info": {
   "codemirror_mode": {
    "name": "ipython"
   },
   "file_extension": ".py",
   "mimetype": "text/x-python",
   "name": "python",
   "nbconvert_exporter": "python"
  }
 },
 "nbformat": 4,
 "nbformat_minor": 2
}
