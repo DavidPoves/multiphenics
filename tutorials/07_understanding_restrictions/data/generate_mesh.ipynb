{
 "cells": [
  {
   "cell_type": "markdown",
   "metadata": {},
   "source": [
    "# Mesh generation for tutorial 07"
   ]
  },
  {
   "cell_type": "code",
   "execution_count": null,
   "metadata": {},
   "outputs": [],
   "source": [
    "import pygmsh\n",
    "from numpy import fabs, finfo, logical_and, logical_or, sqrt\n",
    "from dolfinx import *\n",
    "from dolfinx.cpp.mesh import CellType, GhostMode\n",
    "from dolfinx.io import XDMFFile\n",
    "from dolfinx.plotting import plot"
   ]
  },
  {
   "cell_type": "markdown",
   "metadata": {},
   "source": [
    "### Geometrical parameters"
   ]
  },
  {
   "cell_type": "code",
   "execution_count": null,
   "metadata": {},
   "outputs": [],
   "source": [
    "r = 1\n",
    "lcar = 2"
   ]
  },
  {
   "cell_type": "markdown",
   "metadata": {},
   "source": [
    "### Create mesh\n",
    "\n",
    "Generate a simple mesh consisting in an hexagon discretized with six equilateral triangle cells."
   ]
  },
  {
   "cell_type": "code",
   "execution_count": null,
   "metadata": {},
   "outputs": [],
   "source": [
    "geom = pygmsh.built_in.Geometry()\n",
    "c0 = geom.add_circle([0.0, 0.0, 0.0], r, lcar, num_sections=6)\n",
    "pygmsh_mesh = pygmsh.generate_mesh(geom)\n",
    "mesh = Mesh(MPI.comm_world, CellType.triangle, pygmsh_mesh.points[:, :2], pygmsh_mesh.cells[\"triangle\"], [], GhostMode.none)"
   ]
  },
  {
   "cell_type": "code",
   "execution_count": null,
   "metadata": {},
   "outputs": [],
   "source": [
    "plot(mesh)"
   ]
  },
  {
   "cell_type": "markdown",
   "metadata": {},
   "source": [
    "### Create cell restrictions\n",
    "\n",
    "Define a mesh function on cells, which is equal to one on all cells."
   ]
  },
  {
   "cell_type": "code",
   "execution_count": null,
   "metadata": {},
   "outputs": [],
   "source": [
    "cell_restriction_all = MeshFunction(\"size_t\", mesh, mesh.topology.dim, 1)"
   ]
  },
  {
   "cell_type": "markdown",
   "metadata": {},
   "source": [
    "Define a mesh function on cells, which is equal to zero on one half of the cells, and equal to one on the other half of the cells"
   ]
  },
  {
   "cell_type": "code",
   "execution_count": null,
   "metadata": {},
   "outputs": [],
   "source": [
    "eps = finfo(float).eps\n",
    "cell_restriction_subset = MeshFunction(\"size_t\", mesh, mesh.topology.dim, 0)\n",
    "cell_restriction_subset.mark(lambda x: logical_or(x[0] < eps, logical_and(x[1] < eps, x[0] < 0.5 + eps)), 1)"
   ]
  },
  {
   "cell_type": "markdown",
   "metadata": {},
   "source": [
    "### Create facet restrictions\n",
    "\n",
    "Define a mesh function on facets, which is equal to one on all facets"
   ]
  },
  {
   "cell_type": "code",
   "execution_count": null,
   "metadata": {},
   "outputs": [],
   "source": [
    "facet_restriction_all = MeshFunction(\"size_t\", mesh, mesh.topology.dim - 1, 1)"
   ]
  },
  {
   "cell_type": "markdown",
   "metadata": {},
   "source": [
    "Define a mesh function on facets, which is equal to one on two facets, and equal to zero on the remaining facets"
   ]
  },
  {
   "cell_type": "code",
   "execution_count": null,
   "metadata": {},
   "outputs": [],
   "source": [
    "facet_restriction_subset = MeshFunction(\"size_t\", mesh, mesh.topology.dim - 1, 0)\n",
    "facet_restriction_subset.mark(lambda x: fabs(x[1] + sqrt(3)*x[0]) < 0.01, 1)"
   ]
  },
  {
   "cell_type": "markdown",
   "metadata": {},
   "source": [
    "### Save"
   ]
  },
  {
   "cell_type": "code",
   "execution_count": null,
   "metadata": {},
   "outputs": [],
   "source": [
    "with XDMFFile(MPI.comm_world, \"hexagon.xdmf\") as output:\n",
    "    output.write(mesh)\n",
    "with XDMFFile(MPI.comm_world, \"hexagon_cell_restriction_all.xdmf\") as output:\n",
    "    output.write(cell_restriction_all)\n",
    "with XDMFFile(MPI.comm_world, \"hexagon_cell_restriction_subset.xdmf\") as output:\n",
    "    output.write(cell_restriction_subset)\n",
    "with XDMFFile(MPI.comm_world, \"hexagon_facet_restriction_all.xdmf\") as output:\n",
    "    output.write(facet_restriction_all)\n",
    "with XDMFFile(MPI.comm_world, \"hexagon_facet_restriction_subset.xdmf\") as output:\n",
    "    output.write(facet_restriction_subset)"
   ]
  }
 ],
 "metadata": {
  "kernelspec": {
   "display_name": "Python 3",
   "language": "python",
   "name": "python3"
  },
  "language_info": {
   "codemirror_mode": {
    "name": "ipython"
   },
   "file_extension": ".py",
   "mimetype": "text/x-python",
   "name": "python",
   "nbconvert_exporter": "python"
  }
 },
 "nbformat": 4,
 "nbformat_minor": 2
}
