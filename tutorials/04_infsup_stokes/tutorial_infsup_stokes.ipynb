{
 "cells": [
  {
   "cell_type": "markdown",
   "metadata": {},
   "source": [
    "# Tutorial 04: computation of the inf-sup constant for a Stokes problem discretization\n",
    "\n",
    "In this tutorial we compare the computation of the inf-sup constant of a Stokes problem by standard FEniCSx code and a multiphenics code."
   ]
  },
  {
   "cell_type": "code",
   "execution_count": null,
   "metadata": {},
   "outputs": [],
   "source": [
    "from numpy import finfo, isclose, logical_or, where\n",
    "from petsc4py import PETSc\n",
    "from ufl import *\n",
    "from dolfinx import *\n",
    "from dolfinx.fem import assemble_matrix, assemble_scalar, locate_dofs_topological\n",
    "from dolfinx.plotting import plot\n",
    "from multiphenics import *\n",
    "from multiphenics.fem import block_assemble"
   ]
  },
  {
   "cell_type": "markdown",
   "metadata": {},
   "source": [
    "### Mesh"
   ]
  },
  {
   "cell_type": "code",
   "execution_count": null,
   "metadata": {},
   "outputs": [],
   "source": [
    "mesh = UnitSquareMesh(MPI.comm_world, 32, 32)\n",
    "\n",
    "def wall(x):\n",
    "    return logical_or(x[1] < 0 + finfo(float).eps, x[1] > 1 - finfo(float).eps)\n",
    "\n",
    "boundaries = MeshFunction(\"size_t\", mesh, mesh.topology.dim - 1, 0)\n",
    "boundaries.mark(wall, 1)\n",
    "boundaries_1 = where(boundaries.values == 1)[0]"
   ]
  },
  {
   "cell_type": "code",
   "execution_count": null,
   "metadata": {},
   "outputs": [],
   "source": [
    "plot(mesh)"
   ]
  },
  {
   "cell_type": "markdown",
   "metadata": {},
   "source": [
    "### Function spaces"
   ]
  },
  {
   "cell_type": "code",
   "execution_count": null,
   "metadata": {},
   "outputs": [],
   "source": [
    "V_element = VectorElement(\"Lagrange\", mesh.ufl_cell(), 2)\n",
    "Q_element = FiniteElement(\"Lagrange\", mesh.ufl_cell(), 1)"
   ]
  },
  {
   "cell_type": "markdown",
   "metadata": {},
   "source": [
    "### Solver parameters"
   ]
  },
  {
   "cell_type": "code",
   "execution_count": null,
   "metadata": {},
   "outputs": [],
   "source": [
    "options = PETSc.Options()\n",
    "options_prefix = \"multiphenics_eigensolver_\"\n",
    "options.setValue(options_prefix + \"eps_gen_non_hermitian\", \"\")\n",
    "options.setValue(options_prefix + \"eps_target_real\", \"\")\n",
    "options.setValue(options_prefix + \"eps_target\", 1.e-5)\n",
    "options.setValue(options_prefix + \"st_type\", \"sinvert\")\n",
    "options.setValue(options_prefix + \"st_ksp_type\", \"preonly\")\n",
    "options.setValue(options_prefix + \"st_pc_type\", \"lu\")\n",
    "options.setValue(options_prefix + \"st_pc_factor_mat_solver_type\", \"mumps\")"
   ]
  },
  {
   "cell_type": "markdown",
   "metadata": {},
   "source": [
    "### Auxiliary function for eigenvector normalization"
   ]
  },
  {
   "cell_type": "code",
   "execution_count": null,
   "metadata": {},
   "outputs": [],
   "source": [
    "def normalize(u1, u2, p):\n",
    "    u1_norm = sqrt(MPI.sum(mesh.mpi_comm(), assemble_scalar(inner(grad(u1), grad(u1))*dx)))\n",
    "    u1.vector.scale(1./u1_norm)\n",
    "    u1.vector.ghostUpdate(addv=PETSc.InsertMode.INSERT, mode=PETSc.ScatterMode.FORWARD)\n",
    "    u2_norm = sqrt(MPI.sum(mesh.mpi_comm(), assemble_scalar(inner(grad(u2), grad(u2))*dx)))\n",
    "    u2.vector.scale(1./u2_norm)\n",
    "    u2.vector.ghostUpdate(addv=PETSc.InsertMode.INSERT, mode=PETSc.ScatterMode.FORWARD)\n",
    "    p_norm = sqrt(MPI.sum(mesh.mpi_comm(), assemble_scalar(p*p*dx)))\n",
    "    p.vector.scale(1./p_norm)\n",
    "    p.vector.ghostUpdate(addv=PETSc.InsertMode.INSERT, mode=PETSc.ScatterMode.FORWARD)"
   ]
  },
  {
   "cell_type": "markdown",
   "metadata": {},
   "source": [
    "### Standard FEniCSx formulation using a mixed function space"
   ]
  },
  {
   "cell_type": "code",
   "execution_count": null,
   "metadata": {},
   "outputs": [],
   "source": [
    "def run_monolithic():\n",
    "    # Function spaces\n",
    "    W_element = MixedElement(V_element, Q_element)\n",
    "    W = FunctionSpace(mesh, W_element)\n",
    "\n",
    "    # Test and trial functions: monolithic\n",
    "    vq = TestFunction(W)\n",
    "    (v, q) = split(vq)\n",
    "    up = TrialFunction(W)\n",
    "    (u, p) = split(up)\n",
    "\n",
    "    # Variational forms\n",
    "    lhs = inner(grad(u), grad(v))*dx - div(v)*p*dx - div(u)*q*dx\n",
    "    rhs = - inner(p, q)*dx\n",
    "\n",
    "    # Boundary conditions\n",
    "    zero = Function(W.sub(0).collapse())\n",
    "    bdofs_V_1 = locate_dofs_topological((W.sub(0), W.sub(0).collapse()), mesh.topology.dim - 1, boundaries_1)\n",
    "    bc = [DirichletBC(zero, bdofs_V_1, W.sub(0))]\n",
    "\n",
    "    # Assemble lhs and rhs matrices\n",
    "    LHS = assemble_matrix(lhs)\n",
    "    LHS.assemble()\n",
    "    RHS = assemble_matrix(rhs)\n",
    "    RHS.assemble()\n",
    "\n",
    "    # Solve\n",
    "    eigensolver = SLEPcEigenSolver(LHS, RHS, bc)\n",
    "    eigensolver.set_options_prefix(options_prefix)\n",
    "    eigensolver.set_from_options()\n",
    "    eigensolver.solve(1)\n",
    "    eigv = eigensolver.get_eigenvalue(0)\n",
    "    r, c = eigv.real, eigv.imag\n",
    "    assert abs(c) < 1.e-10\n",
    "    assert r > 0., \"r = \" + str(r) + \" is not positive\"\n",
    "    print(\"Inf-sup constant (monolithic): \", sqrt(r))\n",
    "\n",
    "    # Extract eigenfunctions\n",
    "    r_fun, c_fun = Function(W), Function(W)\n",
    "    eigensolver.get_eigenpair(r_fun, c_fun, 0)\n",
    "    (u_fun_1, u_fun_2, p_fun) = (r_fun.sub(0).sub(0).collapse(), r_fun.sub(0).sub(1).collapse(), r_fun.sub(1).collapse())\n",
    "    normalize(u_fun_1, u_fun_2, p_fun)\n",
    "\n",
    "    return (r, u_fun_1, u_fun_2, p_fun)"
   ]
  },
  {
   "cell_type": "code",
   "execution_count": null,
   "metadata": {},
   "outputs": [],
   "source": [
    "(eig_m, u_fun_1_m, u_fun_2_m, p_fun_m) = run_monolithic()"
   ]
  },
  {
   "cell_type": "code",
   "execution_count": null,
   "metadata": {},
   "outputs": [],
   "source": [
    "plot(u_fun_1_m)"
   ]
  },
  {
   "cell_type": "code",
   "execution_count": null,
   "metadata": {},
   "outputs": [],
   "source": [
    "plot(u_fun_2_m)"
   ]
  },
  {
   "cell_type": "code",
   "execution_count": null,
   "metadata": {},
   "outputs": [],
   "source": [
    "plot(p_fun_m)"
   ]
  },
  {
   "cell_type": "markdown",
   "metadata": {},
   "source": [
    "### multiphenics formulation using a block function space"
   ]
  },
  {
   "cell_type": "code",
   "execution_count": null,
   "metadata": {},
   "outputs": [],
   "source": [
    "def run_block():\n",
    "    # Function spaces\n",
    "    V = FunctionSpace(mesh, V_element)\n",
    "    Q = FunctionSpace(mesh, Q_element)\n",
    "    W = BlockFunctionSpace([V, Q])\n",
    "\n",
    "    # Test and trial functions\n",
    "    vq = BlockTestFunction(W)\n",
    "    (v, q) = block_split(vq)\n",
    "    up = BlockTrialFunction(W)\n",
    "    u, p = block_split(up)\n",
    "\n",
    "    # Variational forms\n",
    "    lhs = [[inner(grad(u), grad(v))*dx, - div(v)*p*dx],\n",
    "           [- div(u)*q*dx             , 0            ]]\n",
    "    rhs = [[0                         , 0            ],\n",
    "           [0                         , - p*q*dx     ]]\n",
    "    lhs = BlockForm2(lhs, [W, W])\n",
    "    rhs = BlockForm2(rhs, [W, W])\n",
    "\n",
    "    # Boundary conditions\n",
    "    zero = Function(W.sub(0))\n",
    "    bdofs_V_1 = locate_dofs_topological(W.sub(0), mesh.topology.dim - 1, boundaries_1)\n",
    "    wallc = DirichletBC(zero, bdofs_V_1)\n",
    "    bc = BlockDirichletBC([[wallc], []], W)\n",
    "\n",
    "    # Assemble lhs and rhs matrices\n",
    "    LHS = block_assemble(lhs)\n",
    "    RHS = block_assemble(rhs)\n",
    "\n",
    "    # Solve\n",
    "    eigensolver = BlockSLEPcEigenSolver(LHS, RHS, bc)\n",
    "    eigensolver.set_options_prefix(options_prefix)\n",
    "    eigensolver.set_from_options()\n",
    "    eigensolver.solve(1)\n",
    "    eigv = eigensolver.get_eigenvalue(0)\n",
    "    r, c = eigv.real, eigv.imag\n",
    "    assert abs(c) < 1.e-10\n",
    "    assert r > 0., \"r = \" + str(r) + \" is not positive\"\n",
    "    print(\"Inf-sup constant (block): \", sqrt(r))\n",
    "\n",
    "    # Extract eigenfunctions\n",
    "    r_fun, c_fun = BlockFunction(W), BlockFunction(W)\n",
    "    eigensolver.get_eigenpair(r_fun, c_fun, 0)\n",
    "    (u_fun_1, u_fun_2, p_fun) = (r_fun.sub(0).sub(0).collapse(), r_fun.sub(0).sub(1).collapse(), r_fun.sub(1))\n",
    "    normalize(u_fun_1, u_fun_2, p_fun)\n",
    "\n",
    "    return (r, u_fun_1, u_fun_2, p_fun)"
   ]
  },
  {
   "cell_type": "code",
   "execution_count": null,
   "metadata": {},
   "outputs": [],
   "source": [
    "(eig_b, u_fun_1_b, u_fun_2_b, p_fun_b) = run_block()"
   ]
  },
  {
   "cell_type": "code",
   "execution_count": null,
   "metadata": {},
   "outputs": [],
   "source": [
    "plot(u_fun_1_b)"
   ]
  },
  {
   "cell_type": "code",
   "execution_count": null,
   "metadata": {},
   "outputs": [],
   "source": [
    "plot(u_fun_2_b)"
   ]
  },
  {
   "cell_type": "code",
   "execution_count": null,
   "metadata": {},
   "outputs": [],
   "source": [
    "plot(p_fun_b)"
   ]
  },
  {
   "cell_type": "markdown",
   "metadata": {},
   "source": [
    "### Error computation between FEniCSx and multiphenics"
   ]
  },
  {
   "cell_type": "code",
   "execution_count": null,
   "metadata": {},
   "outputs": [],
   "source": [
    "def run_error(eig_m, eig_b, u_fun_1_m, u_fun_1_b, u_fun_2_m, u_fun_2_b, p_fun_m, p_fun_b):\n",
    "    err_inf_sup = abs(sqrt(eig_b) - sqrt(eig_m))/sqrt(eig_m)\n",
    "    print(\"Relative error for inf-sup constant equal to\", err_inf_sup)\n",
    "    assert isclose(err_inf_sup, 0., atol=1.e-8)\n",
    "    # Even after normalization, eigenfunctions may have different signs. Try both and assume that the correct\n",
    "    # error computation is the one for which the error is minimum\n",
    "    err_1_plus = u_fun_1_b + u_fun_1_m\n",
    "    err_2_plus = u_fun_2_b + u_fun_2_m\n",
    "    err_p_plus = p_fun_b + p_fun_m\n",
    "    err_1_minus = u_fun_1_b - u_fun_1_m\n",
    "    err_2_minus = u_fun_2_b - u_fun_2_m\n",
    "    err_p_minus = p_fun_b - p_fun_m\n",
    "    err_1_plus_norm = sqrt(MPI.sum(mesh.mpi_comm(), assemble_scalar(inner(grad(err_1_plus), grad(err_1_plus))*dx)))\n",
    "    err_2_plus_norm = sqrt(MPI.sum(mesh.mpi_comm(), assemble_scalar(inner(grad(err_2_plus), grad(err_2_plus))*dx)))\n",
    "    err_p_plus_norm = sqrt(MPI.sum(mesh.mpi_comm(), assemble_scalar(err_p_plus*err_p_plus*dx)))\n",
    "    err_1_minus_norm = sqrt(MPI.sum(mesh.mpi_comm(), assemble_scalar(inner(grad(err_1_minus), grad(err_1_minus))*dx)))\n",
    "    err_2_minus_norm = sqrt(MPI.sum(mesh.mpi_comm(), assemble_scalar(inner(grad(err_2_minus), grad(err_2_minus))*dx)))\n",
    "    err_p_minus_norm = sqrt(MPI.sum(mesh.mpi_comm(), assemble_scalar(err_p_minus*err_p_minus*dx)))\n",
    "    u_fun_1_norm = sqrt(MPI.sum(mesh.mpi_comm(), assemble_scalar(inner(grad(u_fun_1_m), grad(u_fun_1_m))*dx)))\n",
    "    u_fun_2_norm = sqrt(MPI.sum(mesh.mpi_comm(), assemble_scalar(inner(grad(u_fun_2_m), grad(u_fun_2_m))*dx)))\n",
    "    p_fun_norm = sqrt(MPI.sum(mesh.mpi_comm(), assemble_scalar(p_fun_m*p_fun_m*dx)))\n",
    "    def select_error(err_plus, err_plus_norm, err_minus, err_minus_norm, vec_norm, component_name):\n",
    "        ratio_plus = err_plus_norm/vec_norm\n",
    "        ratio_minus = err_minus_norm/vec_norm\n",
    "        if ratio_minus < ratio_plus:\n",
    "            print(\"Relative error for \", component_name, \"component of eigenvector equal to\", ratio_minus, \"(the one with opposite sign was\", ratio_plus, \")\")\n",
    "            assert isclose(ratio_minus, 0., atol=1.e-6)\n",
    "        else:\n",
    "            print(\"Relative error for\", component_name, \"component of eigenvector equal to\", ratio_plus, \"(the one with opposite sign was\", ratio_minus, \")\")\n",
    "            assert isclose(ratio_plus, 0., atol=1.e-6)\n",
    "    select_error(err_1_plus, err_1_plus_norm, err_1_minus, err_1_minus_norm, u_fun_1_norm, \"velocity 1\")\n",
    "    select_error(err_2_plus, err_2_plus_norm, err_2_minus, err_2_minus_norm, u_fun_2_norm, \"velocity 2\")\n",
    "    select_error(err_p_plus, err_p_plus_norm, err_p_minus, err_p_minus_norm, p_fun_norm, \"pressure\")"
   ]
  },
  {
   "cell_type": "code",
   "execution_count": null,
   "metadata": {},
   "outputs": [],
   "source": [
    "run_error(eig_m, eig_b, u_fun_1_m, u_fun_1_b, u_fun_2_m, u_fun_2_b, p_fun_m, p_fun_b)"
   ]
  }
 ],
 "metadata": {
  "kernelspec": {
   "display_name": "Python 3",
   "language": "python",
   "name": "python3"
  },
  "language_info": {
   "codemirror_mode": {
    "name": "ipython"
   },
   "file_extension": ".py",
   "mimetype": "text/x-python",
   "name": "python",
   "nbconvert_exporter": "python"
  }
 },
 "nbformat": 4,
 "nbformat_minor": 2
}
