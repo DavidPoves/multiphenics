{
 "cells": [
  {
   "cell_type": "markdown",
   "metadata": {},
   "source": [
    "# Tutorial 05: weak imposition of Dirichlet BCs by a Lagrange multiplier (inf-sup computation)\n",
    "\n",
    "In this tutorial we compute the inf-sup constant of the saddle point problem resulting from the discretization of the following Laplace problem\n",
    "$$\\begin{cases}\n",
    "-\\Delta u = f, & \\text{in } \\Omega,\\\\\n",
    " u   = g, & \\text{on } \\Gamma = \\partial\\Omega,\n",
    "\\end{cases}$$\n",
    "\n",
    "where $\\Omega$ is the unit ball in 2D, and for which the non-homogeneous Dirichlet boundary conditions are imposed by a Lagrange multiplier.\n",
    "\n",
    "The resulting eigenvalue problem is\n",
    "$$\n",
    "\\text{find } \\eta, u, \\lambda \\in \\mathbb{R} \\times V \\times M \\text{ s.t. }\\\\\n",
    "\\begin{cases}\n",
    "\\int_\\Omega \\nabla u \\cdot \\nabla v + \\int_\\Gamma \\lambda v = 0, & \\forall v \\in V,\\\\\n",
    "\\int_\\Gamma u \\mu = \\eta \\int_\\Gamma \\lambda \\mu, & \\forall \\mu \\in M\n",
    "\\end{cases}\n",
    "$$\n",
    "where\n",
    "$$\n",
    "V = H^1(\\Omega),\\\\\n",
    "M = L^{2}(\\Gamma).\\\\\n",
    "$$"
   ]
  },
  {
   "cell_type": "code",
   "execution_count": null,
   "metadata": {},
   "outputs": [],
   "source": [
    "from numpy import arange, isclose, sqrt, where\n",
    "from petsc4py import PETSc\n",
    "from ufl import grad, inner, Measure\n",
    "from dolfinx import *\n",
    "from dolfinx.cpp.mesh import GhostMode\n",
    "from dolfinx.fem import locate_dofs_topological\n",
    "from dolfinx.io import XDMFFile\n",
    "from multiphenics import *\n",
    "from multiphenics.fem import block_assemble"
   ]
  },
  {
   "cell_type": "markdown",
   "metadata": {},
   "source": [
    "### Mesh"
   ]
  },
  {
   "cell_type": "code",
   "execution_count": null,
   "metadata": {},
   "outputs": [],
   "source": [
    "with XDMFFile(MPI.comm_world, \"data/circle.xdmf\") as infile:\n",
    "    mesh = infile.read_mesh(GhostMode.none)\n",
    "with XDMFFile(MPI.comm_world, \"data/circle_subdomains.xdmf\") as infile:\n",
    "    subdomains = infile.read_mf_size_t(mesh)\n",
    "with XDMFFile(MPI.comm_world, \"data/circle_boundaries.xdmf\") as infile:\n",
    "    boundaries = infile.read_mf_size_t(mesh)\n",
    "facets_Gamma = where(boundaries.values == 1)[0]"
   ]
  },
  {
   "cell_type": "code",
   "execution_count": null,
   "metadata": {},
   "outputs": [],
   "source": [
    "# Define associated measures\n",
    "dx = Measure(\"dx\")(subdomain_data=subdomains)\n",
    "ds = Measure(\"ds\")(subdomain_data=boundaries)"
   ]
  },
  {
   "cell_type": "markdown",
   "metadata": {},
   "source": [
    "### Eigenvalue problem"
   ]
  },
  {
   "cell_type": "code",
   "execution_count": null,
   "metadata": {},
   "outputs": [],
   "source": [
    "# Define a block function space\n",
    "V = FunctionSpace(mesh, (\"Lagrange\", 2))\n",
    "dofs_V = arange(0, V.dofmap.index_map.block_size*(V.dofmap.index_map.size_local + V.dofmap.index_map.num_ghosts))\n",
    "dofs_V_Gamma = locate_dofs_topological(V, boundaries.dim, facets_Gamma)\n",
    "W = BlockFunctionSpace([V, V], restrict=[dofs_V, dofs_V_Gamma])"
   ]
  },
  {
   "cell_type": "code",
   "execution_count": null,
   "metadata": {},
   "outputs": [],
   "source": [
    "# Define trial and test functions\n",
    "ul = BlockTrialFunction(W)\n",
    "(u, l) = block_split(ul)\n",
    "vm = BlockTestFunction(W)\n",
    "(v, m) = block_split(vm)"
   ]
  },
  {
   "cell_type": "code",
   "execution_count": null,
   "metadata": {},
   "outputs": [],
   "source": [
    "# Define problem block forms\n",
    "a = [[inner(grad(u), grad(v))*dx, - l*v*ds],\n",
    "     [- u*m*ds                  , 0       ]]\n",
    "b = [[0                         , 0       ],\n",
    "     [0                         , - l*m*ds]]\n",
    "a = BlockForm2(a, [W, W])\n",
    "b = BlockForm2(b, [W, W])\n",
    "A = block_assemble(a)\n",
    "B = block_assemble(b)"
   ]
  },
  {
   "cell_type": "code",
   "execution_count": null,
   "metadata": {},
   "outputs": [],
   "source": [
    "# Solve\n",
    "options = PETSc.Options()\n",
    "options_prefix = \"multiphenics_eigensolver_\"\n",
    "options.setValue(options_prefix + \"eps_gen_non_hermitian\", \"\")\n",
    "options.setValue(options_prefix + \"eps_target_real\", \"\")\n",
    "options.setValue(options_prefix + \"eps_target\", 1.e-5)\n",
    "options.setValue(options_prefix + \"st_type\", \"sinvert\")\n",
    "options.setValue(options_prefix + \"st_ksp_type\", \"preonly\")\n",
    "options.setValue(options_prefix + \"st_pc_type\", \"lu\")\n",
    "options.setValue(options_prefix + \"st_pc_factor_mat_solver_type\", \"mumps\")\n",
    "eigensolver = BlockSLEPcEigenSolver(A, B)\n",
    "eigensolver.set_options_prefix(options_prefix)\n",
    "eigensolver.set_from_options()\n",
    "eigensolver.solve(1)\n",
    "eigv = eigensolver.get_eigenvalue(0)\n",
    "r, c = eigv.real, eigv.imag\n",
    "assert abs(c) < 1.e-10\n",
    "assert r > 0., \"r = \" + str(r) + \" is not positive\"\n",
    "print(\"Inf-sup constant: \", sqrt(r))\n",
    "assert isclose(sqrt(r), 0.125473)"
   ]
  }
 ],
 "metadata": {
  "kernelspec": {
   "display_name": "Python 3",
   "language": "python",
   "name": "python3"
  },
  "language_info": {
   "codemirror_mode": {
    "name": "ipython"
   },
   "file_extension": ".py",
   "mimetype": "text/x-python",
   "name": "python",
   "nbconvert_exporter": "python"
  }
 },
 "nbformat": 4,
 "nbformat_minor": 2
}
