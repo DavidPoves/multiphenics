{
 "cells": [
  {
   "cell_type": "markdown",
   "metadata": {},
   "source": [
    "# Mesh generation for tutorial 05"
   ]
  },
  {
   "cell_type": "code",
   "execution_count": null,
   "metadata": {},
   "outputs": [],
   "source": [
    "import pygmsh\n",
    "from dolfinx import Mesh, MeshFunction, MeshValueCollection, MPI\n",
    "from dolfinx.cpp.mesh import CellType, GhostMode\n",
    "from dolfinx.io import XDMFFile\n",
    "from dolfinx.plotting import plot"
   ]
  },
  {
   "cell_type": "markdown",
   "metadata": {},
   "source": [
    "### Geometrical parameters"
   ]
  },
  {
   "cell_type": "code",
   "execution_count": null,
   "metadata": {},
   "outputs": [],
   "source": [
    "r = 3\n",
    "lcar = 1. / 4."
   ]
  },
  {
   "cell_type": "markdown",
   "metadata": {},
   "source": [
    "### Create mesh"
   ]
  },
  {
   "cell_type": "code",
   "execution_count": null,
   "metadata": {},
   "outputs": [],
   "source": [
    "geom = pygmsh.built_in.Geometry()\n",
    "c0 = geom.add_circle([0.0, 0.0, 0.0], r, lcar)\n",
    "geom.add_physical(c0.plane_surface, label=0)\n",
    "geom.add_physical(c0.line_loop.lines, label=1)\n",
    "pygmsh_mesh = pygmsh.generate_mesh(geom)\n",
    "mesh = Mesh(MPI.comm_world, CellType.triangle, pygmsh_mesh.points[:, :2],\n",
    "            pygmsh_mesh.cells_dict[\"triangle\"], [], GhostMode.none)"
   ]
  },
  {
   "cell_type": "code",
   "execution_count": null,
   "metadata": {},
   "outputs": [],
   "source": [
    "plot(mesh)"
   ]
  },
  {
   "cell_type": "markdown",
   "metadata": {},
   "source": [
    "### Create subdomains"
   ]
  },
  {
   "cell_type": "code",
   "execution_count": null,
   "metadata": {},
   "outputs": [],
   "source": [
    "subdomains = MeshFunction(\"int\", mesh, mesh.topology.dim, 0)"
   ]
  },
  {
   "cell_type": "markdown",
   "metadata": {},
   "source": [
    "### Create boundaries"
   ]
  },
  {
   "cell_type": "code",
   "execution_count": null,
   "metadata": {},
   "outputs": [],
   "source": [
    "boundaries_mvc = MeshValueCollection(\"int\", mesh, mesh.topology.dim - 1, pygmsh_mesh.cells_dict[\"line\"],\n",
    "                                     pygmsh_mesh.cell_data_dict[\"gmsh:physical\"][\"line\"])\n",
    "boundaries = MeshFunction(\"int\", mesh, boundaries_mvc, 0)"
   ]
  },
  {
   "cell_type": "markdown",
   "metadata": {},
   "source": [
    "### Save"
   ]
  },
  {
   "cell_type": "code",
   "execution_count": null,
   "metadata": {},
   "outputs": [],
   "source": [
    "with XDMFFile(MPI.comm_world, \"circle.xdmf\") as output:\n",
    "    output.write(mesh)\n",
    "with XDMFFile(MPI.comm_world, \"circle_subdomains.xdmf\") as output:\n",
    "    output.write(subdomains)\n",
    "with XDMFFile(MPI.comm_world, \"circle_boundaries.xdmf\") as output:\n",
    "    output.write(boundaries)"
   ]
  }
 ],
 "metadata": {
  "kernelspec": {
   "display_name": "Python 3",
   "language": "python",
   "name": "python3"
  },
  "language_info": {
   "codemirror_mode": {
    "name": "ipython"
   },
   "file_extension": ".py",
   "mimetype": "text/x-python",
   "name": "python",
   "nbconvert_exporter": "python"
  }
 },
 "nbformat": 4,
 "nbformat_minor": 2
}
