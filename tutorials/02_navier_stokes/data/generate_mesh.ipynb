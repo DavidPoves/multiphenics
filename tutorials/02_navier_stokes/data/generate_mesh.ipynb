{
 "cells": [
  {
   "cell_type": "markdown",
   "metadata": {},
   "source": [
    "# Mesh generation for tutorial 02"
   ]
  },
  {
   "cell_type": "code",
   "execution_count": null,
   "metadata": {},
   "outputs": [],
   "source": [
    "import pygmsh\n",
    "from dolfinx import *\n",
    "from dolfinx.cpp.mesh import CellType, GhostMode\n",
    "from dolfinx.io import XDMFFile\n",
    "from dolfinx.plotting import plot"
   ]
  },
  {
   "cell_type": "markdown",
   "metadata": {},
   "source": [
    "### Geometrical parameters"
   ]
  },
  {
   "cell_type": "code",
   "execution_count": null,
   "metadata": {},
   "outputs": [],
   "source": [
    "pre_step_length = 4.\n",
    "after_step_length = 14.\n",
    "pre_step_height = 3.\n",
    "after_step_height = 5.\n",
    "lcar = 1./5."
   ]
  },
  {
   "cell_type": "markdown",
   "metadata": {},
   "source": [
    "### Create mesh"
   ]
  },
  {
   "cell_type": "code",
   "execution_count": null,
   "metadata": {},
   "outputs": [],
   "source": [
    "geom = pygmsh.built_in.Geometry()\n",
    "p0 = geom.add_point([0.0, after_step_height - pre_step_height, 0.0], lcar)\n",
    "p1 = geom.add_point([pre_step_length, after_step_height - pre_step_height, 0.0], lcar)\n",
    "p2 = geom.add_point([pre_step_length, 0.0, 0.0], lcar)\n",
    "p3 = geom.add_point([pre_step_length + after_step_length, 0.0, 0.0], lcar)\n",
    "p4 = geom.add_point([pre_step_length + after_step_length, after_step_height, 0.0], lcar)\n",
    "p5 = geom.add_point([0.0, after_step_height, 0.0], lcar)\n",
    "l0 = geom.add_line(p0, p1)\n",
    "l1 = geom.add_line(p1, p2)\n",
    "l2 = geom.add_line(p2, p3)\n",
    "l3 = geom.add_line(p3, p4)\n",
    "l4 = geom.add_line(p4, p5)\n",
    "l5 = geom.add_line(p5, p0)\n",
    "geom.add_physical([l5], label=1)\n",
    "geom.add_physical([l0, l1, l2, l4], label=2)\n",
    "line_loop = geom.add_line_loop([l0, l1, l2, l3, l4, l5])\n",
    "domain = geom.add_plane_surface(line_loop)\n",
    "geom.add_physical(domain, label=0)\n",
    "pygmsh_mesh = pygmsh.generate_mesh(geom)\n",
    "mesh = Mesh(MPI.comm_world, CellType.triangle, pygmsh_mesh.points[:, :2], pygmsh_mesh.cells[\"triangle\"], [], GhostMode.none)"
   ]
  },
  {
   "cell_type": "code",
   "execution_count": null,
   "metadata": {},
   "outputs": [],
   "source": [
    "plot(mesh)"
   ]
  },
  {
   "cell_type": "markdown",
   "metadata": {},
   "source": [
    "### Create subdomains"
   ]
  },
  {
   "cell_type": "code",
   "execution_count": null,
   "metadata": {},
   "outputs": [],
   "source": [
    "subdomains = MeshFunction(\"size_t\", mesh, mesh.topology.dim, 0)"
   ]
  },
  {
   "cell_type": "markdown",
   "metadata": {},
   "source": [
    "### Create boundaries"
   ]
  },
  {
   "cell_type": "code",
   "execution_count": null,
   "metadata": {},
   "outputs": [],
   "source": [
    "boundaries_mvc = MeshValueCollection(\"size_t\", mesh, mesh.topology.dim - 1, pygmsh_mesh.cells[\"line\"], pygmsh_mesh.cell_data[\"line\"][\"gmsh:physical\"])\n",
    "boundaries = MeshFunction(\"size_t\", mesh, boundaries_mvc, 0)"
   ]
  },
  {
   "cell_type": "markdown",
   "metadata": {},
   "source": [
    "### Save"
   ]
  },
  {
   "cell_type": "code",
   "execution_count": null,
   "metadata": {},
   "outputs": [],
   "source": [
    "with XDMFFile(MPI.comm_world, \"backward_facing_step.xdmf\") as output:\n",
    "    output.write(mesh)\n",
    "with XDMFFile(MPI.comm_world, \"backward_facing_step_subdomains.xdmf\") as output:\n",
    "    output.write(subdomains)\n",
    "with XDMFFile(MPI.comm_world, \"backward_facing_step_boundaries.xdmf\") as output:\n",
    "    output.write(boundaries)"
   ]
  }
 ],
 "metadata": {
  "kernelspec": {
   "display_name": "Python 3",
   "language": "python",
   "name": "python3"
  },
  "language_info": {
   "codemirror_mode": {
    "name": "ipython"
   },
   "file_extension": ".py",
   "mimetype": "text/x-python",
   "name": "python",
   "nbconvert_exporter": "python"
  }
 },
 "nbformat": 4,
 "nbformat_minor": 2
}
