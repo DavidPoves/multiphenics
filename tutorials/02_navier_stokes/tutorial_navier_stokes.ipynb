{
 "cells": [
  {
   "cell_type": "markdown",
   "metadata": {},
   "source": [
    "# Tutorial 02: Navier-Stokes problem\n",
    "\n",
    "In this tutorial we compare the formulation of a Navier-Stokes problem by standard FEniCSx code (using the MixedElement class) and a multiphenics code (using the BlockElement class)."
   ]
  },
  {
   "cell_type": "code",
   "execution_count": null,
   "metadata": {},
   "outputs": [],
   "source": [
    "from numpy import isclose, where, zeros\n",
    "from petsc4py import PETSc\n",
    "from ufl import *\n",
    "from dolfinx import *\n",
    "from dolfinx.cpp.mesh import GhostMode\n",
    "from dolfinx.fem import assemble_matrix, assemble_scalar, assemble_vector, locate_dofs_topological\n",
    "from dolfinx.io import XDMFFile\n",
    "from dolfinx.plotting import plot\n",
    "from multiphenics import *\n",
    "from multiphenics.fem import DirichletBCLegacy"
   ]
  },
  {
   "cell_type": "markdown",
   "metadata": {},
   "source": [
    "### Constitutive parameters"
   ]
  },
  {
   "cell_type": "code",
   "execution_count": null,
   "metadata": {},
   "outputs": [],
   "source": [
    "nu = 0.01\n",
    "def u_in_eval(x):\n",
    "    values = zeros((2, x.shape[1]))\n",
    "    values[0, :] = 1.0\n",
    "    return values\n",
    "def u_wall_eval(x):\n",
    "    return zeros((2, x.shape[1]))"
   ]
  },
  {
   "cell_type": "markdown",
   "metadata": {},
   "source": [
    "### Solver parameters"
   ]
  },
  {
   "cell_type": "code",
   "execution_count": null,
   "metadata": {},
   "outputs": [],
   "source": [
    "def set_solver_parameters(solver):\n",
    "    solver.max_it = 20"
   ]
  },
  {
   "cell_type": "markdown",
   "metadata": {},
   "source": [
    "### Mesh"
   ]
  },
  {
   "cell_type": "code",
   "execution_count": null,
   "metadata": {},
   "outputs": [],
   "source": [
    "with XDMFFile(MPI.comm_world, \"data/backward_facing_step.xdmf\") as infile:\n",
    "    mesh = infile.read_mesh(GhostMode.none)\n",
    "with XDMFFile(MPI.comm_world, \"data/backward_facing_step_subdomains.xdmf\") as infile:\n",
    "    subdomains = infile.read_mf_size_t(mesh)\n",
    "with XDMFFile(MPI.comm_world, \"data/backward_facing_step_boundaries.xdmf\") as infile:\n",
    "    boundaries = infile.read_mf_size_t(mesh)\n",
    "boundaries_1 = where(boundaries.values == 1)[0]\n",
    "boundaries_2 = where(boundaries.values == 2)[0]"
   ]
  },
  {
   "cell_type": "code",
   "execution_count": null,
   "metadata": {},
   "outputs": [],
   "source": [
    "plot(mesh)"
   ]
  },
  {
   "cell_type": "markdown",
   "metadata": {},
   "source": [
    "### Function spaces"
   ]
  },
  {
   "cell_type": "code",
   "execution_count": null,
   "metadata": {},
   "outputs": [],
   "source": [
    "V_element = VectorElement(\"Lagrange\", mesh.ufl_cell(), 2)\n",
    "Q_element = FiniteElement(\"Lagrange\", mesh.ufl_cell(), 1)"
   ]
  },
  {
   "cell_type": "markdown",
   "metadata": {},
   "source": [
    "### Standard FEniCSx formulation using MixedElement"
   ]
  },
  {
   "cell_type": "code",
   "execution_count": null,
   "metadata": {},
   "outputs": [],
   "source": [
    "def run_monolithic():\n",
    "    # Function spaces\n",
    "    W_element = MixedElement(V_element, Q_element)\n",
    "    W = FunctionSpace(mesh, W_element)\n",
    "\n",
    "    # Test and trial functions: monolithic\n",
    "    vq = TestFunction(W)\n",
    "    (v, q) = split(vq)\n",
    "    dup = TrialFunction(W)\n",
    "    up = Function(W)\n",
    "    (u, p) = split(up)\n",
    "\n",
    "    # Variational forms\n",
    "    F = (\n",
    "            nu*inner(grad(u), grad(v))*dx\n",
    "          + inner(grad(u)*u, v)*dx\n",
    "          - div(v)*p*dx\n",
    "          + div(u)*q*dx\n",
    "        )\n",
    "    J = derivative(F, up, dup)\n",
    "\n",
    "    # Boundary conditions\n",
    "    u_in = Function(W.sub(0).collapse())\n",
    "    u_in.interpolate(u_in_eval)\n",
    "    u_wall = Function(W.sub(0).collapse())\n",
    "    u_wall.interpolate(u_wall_eval)\n",
    "    bdofs_V_1 = locate_dofs_topological((W.sub(0), W.sub(0).collapse()), mesh.topology.dim - 1, boundaries_1)\n",
    "    bdofs_V_2 = locate_dofs_topological((W.sub(0), W.sub(0).collapse()), mesh.topology.dim - 1, boundaries_2)\n",
    "    inlet_bc = DirichletBC(u_in, bdofs_V_1, W.sub(0))\n",
    "    wall_bc = DirichletBC(u_wall, bdofs_V_2, W.sub(0))\n",
    "    bc = [inlet_bc, wall_bc]\n",
    "\n",
    "    # Class for interfacing with the Newton solver\n",
    "    class NavierStokesProblem(NonlinearProblem):\n",
    "        def __init__(self, F, up, bc, J):\n",
    "            NonlinearProblem.__init__(self)\n",
    "            self._F = F\n",
    "            self._up = up\n",
    "            self._bc = bc\n",
    "            self._J = J\n",
    "            self._F_vec = None\n",
    "            self._J_mat = None\n",
    "\n",
    "        def form(self, x):\n",
    "            x.ghostUpdate(addv=PETSc.InsertMode.INSERT, mode=PETSc.ScatterMode.FORWARD)\n",
    "\n",
    "        def F(self, _):\n",
    "            if self._F_vec is None:\n",
    "                self._F_vec = assemble_vector(self._F)\n",
    "            else:\n",
    "                with self._F_vec.localForm() as f_local:\n",
    "                    f_local.set(0.0)\n",
    "                assemble_vector(self._F_vec, self._F)\n",
    "            self._F_vec.ghostUpdate(addv=PETSc.InsertMode.ADD, mode=PETSc.ScatterMode.REVERSE)\n",
    "            DirichletBCLegacy.apply(self._bc, self._F_vec, self._up.vector)\n",
    "            return self._F_vec\n",
    "\n",
    "        def J(self, _):\n",
    "            if self._J_mat is None:\n",
    "                self._J_mat = assemble_matrix(self._J)\n",
    "            else:\n",
    "                self._J_mat.zeroEntries()\n",
    "                assemble_matrix(self._J_mat, self._J)\n",
    "            self._J_mat.assemble()\n",
    "            DirichletBCLegacy.apply(self._bc, self._J_mat, 1.0)\n",
    "            return self._J_mat\n",
    "\n",
    "    # Solve\n",
    "    problem = NavierStokesProblem(F, up, bc, J)\n",
    "    solver = NewtonSolver(mesh.mpi_comm())\n",
    "    set_solver_parameters(solver)\n",
    "    solver.solve(problem, up.vector)\n",
    "\n",
    "    # Extract solutions\n",
    "    return up"
   ]
  },
  {
   "cell_type": "code",
   "execution_count": null,
   "metadata": {},
   "outputs": [],
   "source": [
    "up_m = run_monolithic()\n",
    "(u_m, p_m) = up_m.split()"
   ]
  },
  {
   "cell_type": "code",
   "execution_count": null,
   "metadata": {},
   "outputs": [],
   "source": [
    "plot(u_m)"
   ]
  },
  {
   "cell_type": "code",
   "execution_count": null,
   "metadata": {},
   "outputs": [],
   "source": [
    "plot(p_m)"
   ]
  },
  {
   "cell_type": "markdown",
   "metadata": {},
   "source": [
    "### multiphenics formulation using BlockElement"
   ]
  },
  {
   "cell_type": "code",
   "execution_count": null,
   "metadata": {},
   "outputs": [],
   "source": [
    "def run_block():\n",
    "    # Function spaces\n",
    "    W_element = BlockElement(V_element, Q_element)\n",
    "    W = BlockFunctionSpace(mesh, W_element)\n",
    "\n",
    "    # Test and trial functions\n",
    "    vq = BlockTestFunction(W)\n",
    "    (v, q) = block_split(vq)\n",
    "    dup = BlockTrialFunction(W)\n",
    "    up = BlockFunction(W)\n",
    "    (u, p) = block_split(up)\n",
    "\n",
    "    # Variational forms\n",
    "    F = [nu*inner(grad(u), grad(v))*dx + inner(grad(u)*u, v)*dx - div(v)*p*dx,\n",
    "         div(u)*q*dx]\n",
    "    J = block_derivative(F, up, dup)\n",
    "\n",
    "    # Boundary conditions\n",
    "    u_in = Function(W.sub(0))\n",
    "    u_in.interpolate(u_in_eval)\n",
    "    u_wall = Function(W.sub(0))\n",
    "    u_wall.interpolate(u_wall_eval)\n",
    "    bdofs_V_1 = locate_dofs_topological(W.sub(0), mesh.topology.dim - 1, boundaries_1)\n",
    "    bdofs_V_2 = locate_dofs_topological(W.sub(0), mesh.topology.dim - 1, boundaries_2)\n",
    "    inlet_bc = DirichletBC(u_in, bdofs_V_1)\n",
    "    wall_bc = DirichletBC(u_wall, bdofs_V_2)\n",
    "    bc = BlockDirichletBC([[inlet_bc, wall_bc], []])\n",
    "\n",
    "    # Solve\n",
    "    problem = BlockNonlinearProblem(F, up, bc, J)\n",
    "    solver = BlockNewtonSolver(mesh.mpi_comm())\n",
    "    set_solver_parameters(solver)\n",
    "    solver.solve(problem, up.block_vector)\n",
    "\n",
    "    # Extract solutions\n",
    "    return up"
   ]
  },
  {
   "cell_type": "code",
   "execution_count": null,
   "metadata": {},
   "outputs": [],
   "source": [
    "up_b = run_block()\n",
    "(u_b, p_b) = up_b.block_split()"
   ]
  },
  {
   "cell_type": "code",
   "execution_count": null,
   "metadata": {},
   "outputs": [],
   "source": [
    "plot(u_b)"
   ]
  },
  {
   "cell_type": "code",
   "execution_count": null,
   "metadata": {},
   "outputs": [],
   "source": [
    "plot(p_b)"
   ]
  },
  {
   "cell_type": "markdown",
   "metadata": {},
   "source": [
    "### Error computation between FEniCSx and multiphenics"
   ]
  },
  {
   "cell_type": "code",
   "execution_count": null,
   "metadata": {},
   "outputs": [],
   "source": [
    "def run_error(u_m, p_m, u_b, p_b):\n",
    "    u_m_norm = sqrt(MPI.sum(mesh.mpi_comm(), assemble_scalar(inner(grad(u_m), grad(u_m))*dx)))\n",
    "    err_u_norm = sqrt(MPI.sum(mesh.mpi_comm(), assemble_scalar(inner(grad(u_b - u_m), grad(u_b - u_m))*dx)))\n",
    "    p_m_norm = sqrt(MPI.sum(mesh.mpi_comm(), assemble_scalar(inner(p_m, p_m)*dx)))\n",
    "    err_p_norm = sqrt(MPI.sum(mesh.mpi_comm(), assemble_scalar(inner(p_b - p_m, p_b - p_m)*dx)))\n",
    "    print(\"Relative error for velocity component is equal to\", err_u_norm/u_m_norm)\n",
    "    print(\"Relative error for pressure component is equal to\", err_p_norm/p_m_norm)\n",
    "    assert isclose(err_u_norm/u_m_norm, 0., atol=1.e-10)\n",
    "    assert isclose(err_p_norm/p_m_norm, 0., atol=1.e-10)"
   ]
  },
  {
   "cell_type": "code",
   "execution_count": null,
   "metadata": {},
   "outputs": [],
   "source": [
    "run_error(u_m, p_m, u_b, p_b)"
   ]
  }
 ],
 "metadata": {
  "kernelspec": {
   "display_name": "Python 3",
   "language": "python",
   "name": "python3"
  },
  "language_info": {
   "codemirror_mode": {
    "name": "ipython"
   },
   "file_extension": ".py",
   "mimetype": "text/x-python",
   "name": "python",
   "nbconvert_exporter": "python"
  }
 },
 "nbformat": 4,
 "nbformat_minor": 2
}
